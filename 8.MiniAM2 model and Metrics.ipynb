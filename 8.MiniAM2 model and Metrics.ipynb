{
 "cells": [
  {
   "cell_type": "markdown",
   "id": "ff62de32",
   "metadata": {},
   "source": [
    "# Evaluate trained model on a test set"
   ]
  },
  {
   "cell_type": "markdown",
   "id": "ab0386ae",
   "metadata": {},
   "source": [
    "### Load model with version"
   ]
  },
  {
   "cell_type": "code",
   "execution_count": 1,
   "id": "a22bd083",
   "metadata": {},
   "outputs": [
    {
     "name": "stderr",
     "output_type": "stream",
     "text": [
      "INFO:root:Do not standardize\n",
      "INFO:root:Do not standardize\n",
      "INFO:root:Do not standardize\n",
      "2023-05-23 18:14:51.866709: W tensorflow/tsl/platform/profile_utils/cpu_utils.cc:128] Failed to get CPU frequency: 0 Hz\n",
      "INFO:root:Trained model found with specified filename: models/MiniAM2/version/0.0.0\n"
     ]
    }
   ],
   "source": [
    "from src.classifiers.miniam2 import MiniAM2Classifier\n",
    "\n",
    "\n",
    "ver = '0.0.0'\n",
    "miniam2 = MiniAM2Classifier()\n",
    "miniam2.load_model_from_path('models', version=ver)"
   ]
  },
  {
   "cell_type": "markdown",
   "id": "2c444ac6",
   "metadata": {},
   "source": [
    "### Load test sets"
   ]
  },
  {
   "cell_type": "code",
   "execution_count": 2,
   "id": "6356da07",
   "metadata": {},
   "outputs": [],
   "source": [
    "from src.utils import get_data\n",
    "import numpy as np\n",
    "\n",
    "\n",
    "test_sets = {\n",
    "    \"es\": get_data('data/test_data/20220915_test_set_Spanish.csv'),\n",
    "    \"en\": get_data('data/test_data/20220915_test_set_English.csv'),\n",
    "    \"fr\": get_data('data/test_data/20220915_test_set_French.csv')}\n",
    "\n",
    "for lang, ts in test_sets.items():\n",
    "    ts['lang'] = lang"
   ]
  },
  {
   "cell_type": "markdown",
   "id": "eb5ec70f",
   "metadata": {},
   "source": [
    "### Compute metrics by calling 'compute_metrics' method and send a dictionary containing all test sets you want to test with. There are 3 different problem we can get the metrics of\n",
    "1. Organization vs Man vs Woman metrics: Q='ovmvw'\n",
    "2. Human vs Organization metrics: Q='hvo'\n",
    "3. Man vs Woman: Q='mvw'\n",
    "\n",
    "Specify the label where true labels are stored"
   ]
  },
  {
   "cell_type": "code",
   "execution_count": 3,
   "id": "5218e473",
   "metadata": {},
   "outputs": [
    {
     "name": "stdout",
     "output_type": "stream",
     "text": [
      "5/5 [==============================] - 0s 5ms/step\n",
      "5/5 [==============================] - 0s 6ms/step\n",
      "5/5 [==============================] - 0s 4ms/step\n"
     ]
    },
    {
     "data": {
      "text/plain": [
       "{'General info': {'Model': 'MiniAM2',\n",
       "  'Parameters': 2849606,\n",
       "  'MB': 11.12527847290039,\n",
       "  'users/s': (21742.184025040373,),\n",
       "  's/user': 4.599353951048821e-05},\n",
       " 'ovmvw': {'es': {'Coverage': 100.0,\n",
       "   'Accuracy': 88.1621187800963,\n",
       "   'F1': 85.86167199851864,\n",
       "   'Recall': 84.84228917030157,\n",
       "   'Precision': 87.04921395911289,\n",
       "   'Loss': 0.32900661352190996,\n",
       "   'Loss TF': 0.3290065824985504},\n",
       "  'en': {'Coverage': 100.0,\n",
       "   'Accuracy': 82.9882257409663,\n",
       "   'F1': 82.0617556950272,\n",
       "   'Recall': 85.11171251563925,\n",
       "   'Precision': 79.85615946365189,\n",
       "   'Loss': 0.4802424580312736,\n",
       "   'Loss TF': 0.48024246096611023},\n",
       "  'fr': {'Coverage': 100.0,\n",
       "   'Accuracy': 82.65353961556492,\n",
       "   'F1': 80.13349534147623,\n",
       "   'Recall': 79.3689407612081,\n",
       "   'Precision': 81.01017808777992,\n",
       "   'Loss': 0.47044808692413453,\n",
       "   'Loss TF': 0.4704480767250061}},\n",
       " 'hvo': {'es': {'Coverage': 100.0,\n",
       "   'Accuracy': 97.75280898876404,\n",
       "   'F1': 89.6815256483059,\n",
       "   'Recall': 87.27739326541722,\n",
       "   'Precision': 92.47781448989151,\n",
       "   'Loss': 0.06363991809687974,\n",
       "   'Loss TF': 0.06363991647958755},\n",
       "  'en': {'Coverage': 100.0,\n",
       "   'Accuracy': 96.87373122208689,\n",
       "   'F1': 89.20347513624385,\n",
       "   'Recall': 93.50947825428477,\n",
       "   'Precision': 85.81477541420278,\n",
       "   'Loss': 0.09560519182131212,\n",
       "   'Loss TF': 0.09560519456863403},\n",
       "  'fr': {'Coverage': 100.0,\n",
       "   'Accuracy': 96.01500234411627,\n",
       "   'F1': 86.0025647102966,\n",
       "   'Recall': 84.21520480188696,\n",
       "   'Precision': 88.04037966013243,\n",
       "   'Loss': 0.10987890330258682,\n",
       "   'Loss TF': 0.10987889766693115}},\n",
       " 'mvw': {'es': {'Coverage': 100.0,\n",
       "   'Accuracy': 89.56372968349017,\n",
       "   'F1': 89.56372204659876,\n",
       "   'Recall': 89.59973938220405,\n",
       "   'Precision': 89.59707249298539,\n",
       "   'Loss': 0.2828459332241717,\n",
       "   'Loss TF': 0.2828459143638611},\n",
       "  'en': {'Coverage': 100.0,\n",
       "   'Accuracy': 84.58515283842794,\n",
       "   'F1': 84.46062388566102,\n",
       "   'Recall': 84.36263885281659,\n",
       "   'Precision': 84.6510772691875,\n",
       "   'Loss': 0.41369501036509126,\n",
       "   'Loss TF': 0.41369500756263733},\n",
       "  'fr': {'Coverage': 100.0,\n",
       "   'Accuracy': 85.2475752935171,\n",
       "   'F1': 84.70794977226055,\n",
       "   'Recall': 84.46538392259791,\n",
       "   'Precision': 85.0320945945946,\n",
       "   'Loss': 0.39259522865030744,\n",
       "   'Loss TF': 0.39259523153305054}}}"
      ]
     },
     "execution_count": 3,
     "metadata": {},
     "output_type": "execute_result"
    }
   ],
   "source": [
    "miniam2.compute_metrics(test_sets, label=\"label\")"
   ]
  },
  {
   "cell_type": "markdown",
   "id": "4d14f3ae",
   "metadata": {},
   "source": [
    "### Now with M3"
   ]
  },
  {
   "cell_type": "code",
   "execution_count": 8,
   "id": "8272c91d",
   "metadata": {},
   "outputs": [
    {
     "name": "stderr",
     "output_type": "stream",
     "text": [
      "INFO:m3inference.m3inference:Version 1.1.5\n",
      "INFO:m3inference.m3inference:Running on cpu.\n",
      "INFO:m3inference.m3inference:Will use text model. Note that as M3 was optimized to work well with both image and text data,                                     it is not recommended to use text only model unless you do not have the profile image.\n",
      "INFO:m3inference.m3inference:Model text_model exists at /Users/borjasanchez/m3/models/text_model.mdl.\n",
      "INFO:m3inference.utils:Checking MD5 for model text_model at /Users/borjasanchez/m3/models/text_model.mdl\n",
      "INFO:m3inference.utils:MD5s match.\n",
      "INFO:m3inference.m3inference:Loaded pretrained weight at /Users/borjasanchez/m3/models/text_model.mdl\n"
     ]
    }
   ],
   "source": [
    "from src.classifiers.m3 import M2\n",
    "m2 = M2()"
   ]
  },
  {
   "cell_type": "code",
   "execution_count": 11,
   "id": "9f6ddb28",
   "metadata": {},
   "outputs": [
    {
     "name": "stderr",
     "output_type": "stream",
     "text": [
      "INFO:root:M3 predicting...\n",
      "INFO:m3inference.dataset:2492 data entries loaded.\n",
      "Predicting...:   0%|                                                                                                                                  | 0/5 [00:00<?, ?it/s]/Users/borjasanchez/miniforge3/envs/MiniAM2/lib/python3.10/site-packages/torchvision/io/image.py:13: UserWarning: Failed to load image Python extension: 'dlopen(/Users/borjasanchez/miniforge3/envs/MiniAM2/lib/python3.10/site-packages/torchvision/image.so, 0x0006): Symbol not found: (__ZN3c106detail19maybe_wrap_dim_slowIxEET_S2_S2_b)\n",
      "  Referenced from: '/Users/borjasanchez/miniforge3/envs/MiniAM2/lib/python3.10/site-packages/torchvision/image.so'\n",
      "  Expected in: '/Users/borjasanchez/miniforge3/envs/MiniAM2/lib/python3.10/site-packages/torch/lib/libc10.dylib''If you don't plan on using image functionality from `torchvision.io`, you can ignore this warning. Otherwise, there might be something wrong with your environment. Did you have `libjpeg` or `libpng` installed before building `torchvision` from source?\n",
      "  warn(\n",
      "/Users/borjasanchez/miniforge3/envs/MiniAM2/lib/python3.10/site-packages/torchvision/io/image.py:13: UserWarning: Failed to load image Python extension: 'dlopen(/Users/borjasanchez/miniforge3/envs/MiniAM2/lib/python3.10/site-packages/torchvision/image.so, 0x0006): Symbol not found: (__ZN3c106detail19maybe_wrap_dim_slowIxEET_S2_S2_b)\n",
      "  Referenced from: '/Users/borjasanchez/miniforge3/envs/MiniAM2/lib/python3.10/site-packages/torchvision/image.so'\n",
      "  Expected in: '/Users/borjasanchez/miniforge3/envs/MiniAM2/lib/python3.10/site-packages/torch/lib/libc10.dylib''If you don't plan on using image functionality from `torchvision.io`, you can ignore this warning. Otherwise, there might be something wrong with your environment. Did you have `libjpeg` or `libpng` installed before building `torchvision` from source?\n",
      "  warn(\n",
      "/Users/borjasanchez/miniforge3/envs/MiniAM2/lib/python3.10/site-packages/torchvision/io/image.py:13: UserWarning: Failed to load image Python extension: 'dlopen(/Users/borjasanchez/miniforge3/envs/MiniAM2/lib/python3.10/site-packages/torchvision/image.so, 0x0006): Symbol not found: (__ZN3c106detail19maybe_wrap_dim_slowIxEET_S2_S2_b)\n",
      "  Referenced from: '/Users/borjasanchez/miniforge3/envs/MiniAM2/lib/python3.10/site-packages/torchvision/image.so'\n",
      "  Expected in: '/Users/borjasanchez/miniforge3/envs/MiniAM2/lib/python3.10/site-packages/torch/lib/libc10.dylib''If you don't plan on using image functionality from `torchvision.io`, you can ignore this warning. Otherwise, there might be something wrong with your environment. Did you have `libjpeg` or `libpng` installed before building `torchvision` from source?\n",
      "  warn(\n",
      "/Users/borjasanchez/miniforge3/envs/MiniAM2/lib/python3.10/site-packages/torchvision/io/image.py:13: UserWarning: Failed to load image Python extension: 'dlopen(/Users/borjasanchez/miniforge3/envs/MiniAM2/lib/python3.10/site-packages/torchvision/image.so, 0x0006): Symbol not found: (__ZN3c106detail19maybe_wrap_dim_slowIxEET_S2_S2_b)\n",
      "  Referenced from: '/Users/borjasanchez/miniforge3/envs/MiniAM2/lib/python3.10/site-packages/torchvision/image.so'\n",
      "  Expected in: '/Users/borjasanchez/miniforge3/envs/MiniAM2/lib/python3.10/site-packages/torch/lib/libc10.dylib''If you don't plan on using image functionality from `torchvision.io`, you can ignore this warning. Otherwise, there might be something wrong with your environment. Did you have `libjpeg` or `libpng` installed before building `torchvision` from source?\n",
      "  warn(\n",
      "Predicting...: 100%|██████████████████████████████████████████████████████████████████████████████████████████████████████████████████████████| 5/5 [00:27<00:00,  5.60s/it]\n",
      "INFO:root:M3 predicting...\n",
      "INFO:m3inference.dataset:2463 data entries loaded.\n",
      "Predicting...:   0%|                                                                                                                                  | 0/5 [00:00<?, ?it/s]/Users/borjasanchez/miniforge3/envs/MiniAM2/lib/python3.10/site-packages/torchvision/io/image.py:13: UserWarning: Failed to load image Python extension: 'dlopen(/Users/borjasanchez/miniforge3/envs/MiniAM2/lib/python3.10/site-packages/torchvision/image.so, 0x0006): Symbol not found: (__ZN3c106detail19maybe_wrap_dim_slowIxEET_S2_S2_b)\n",
      "  Referenced from: '/Users/borjasanchez/miniforge3/envs/MiniAM2/lib/python3.10/site-packages/torchvision/image.so'\n",
      "  Expected in: '/Users/borjasanchez/miniforge3/envs/MiniAM2/lib/python3.10/site-packages/torch/lib/libc10.dylib''If you don't plan on using image functionality from `torchvision.io`, you can ignore this warning. Otherwise, there might be something wrong with your environment. Did you have `libjpeg` or `libpng` installed before building `torchvision` from source?\n",
      "  warn(\n",
      "/Users/borjasanchez/miniforge3/envs/MiniAM2/lib/python3.10/site-packages/torchvision/io/image.py:13: UserWarning: Failed to load image Python extension: 'dlopen(/Users/borjasanchez/miniforge3/envs/MiniAM2/lib/python3.10/site-packages/torchvision/image.so, 0x0006): Symbol not found: (__ZN3c106detail19maybe_wrap_dim_slowIxEET_S2_S2_b)\n",
      "  Referenced from: '/Users/borjasanchez/miniforge3/envs/MiniAM2/lib/python3.10/site-packages/torchvision/image.so'\n",
      "  Expected in: '/Users/borjasanchez/miniforge3/envs/MiniAM2/lib/python3.10/site-packages/torch/lib/libc10.dylib''If you don't plan on using image functionality from `torchvision.io`, you can ignore this warning. Otherwise, there might be something wrong with your environment. Did you have `libjpeg` or `libpng` installed before building `torchvision` from source?\n",
      "  warn(\n",
      "/Users/borjasanchez/miniforge3/envs/MiniAM2/lib/python3.10/site-packages/torchvision/io/image.py:13: UserWarning: Failed to load image Python extension: 'dlopen(/Users/borjasanchez/miniforge3/envs/MiniAM2/lib/python3.10/site-packages/torchvision/image.so, 0x0006): Symbol not found: (__ZN3c106detail19maybe_wrap_dim_slowIxEET_S2_S2_b)\n",
      "  Referenced from: '/Users/borjasanchez/miniforge3/envs/MiniAM2/lib/python3.10/site-packages/torchvision/image.so'\n",
      "  Expected in: '/Users/borjasanchez/miniforge3/envs/MiniAM2/lib/python3.10/site-packages/torch/lib/libc10.dylib''If you don't plan on using image functionality from `torchvision.io`, you can ignore this warning. Otherwise, there might be something wrong with your environment. Did you have `libjpeg` or `libpng` installed before building `torchvision` from source?\n",
      "  warn(\n",
      "/Users/borjasanchez/miniforge3/envs/MiniAM2/lib/python3.10/site-packages/torchvision/io/image.py:13: UserWarning: Failed to load image Python extension: 'dlopen(/Users/borjasanchez/miniforge3/envs/MiniAM2/lib/python3.10/site-packages/torchvision/image.so, 0x0006): Symbol not found: (__ZN3c106detail19maybe_wrap_dim_slowIxEET_S2_S2_b)\n",
      "  Referenced from: '/Users/borjasanchez/miniforge3/envs/MiniAM2/lib/python3.10/site-packages/torchvision/image.so'\n",
      "  Expected in: '/Users/borjasanchez/miniforge3/envs/MiniAM2/lib/python3.10/site-packages/torch/lib/libc10.dylib''If you don't plan on using image functionality from `torchvision.io`, you can ignore this warning. Otherwise, there might be something wrong with your environment. Did you have `libjpeg` or `libpng` installed before building `torchvision` from source?\n",
      "  warn(\n",
      "Predicting...: 100%|██████████████████████████████████████████████████████████████████████████████████████████████████████████████████████████| 5/5 [00:28<00:00,  5.69s/it]\n",
      "INFO:root:M3 predicting...\n",
      "INFO:m3inference.dataset:2133 data entries loaded.\n",
      "Predicting...:   0%|                                                                                                                                  | 0/5 [00:00<?, ?it/s]/Users/borjasanchez/miniforge3/envs/MiniAM2/lib/python3.10/site-packages/torchvision/io/image.py:13: UserWarning: Failed to load image Python extension: 'dlopen(/Users/borjasanchez/miniforge3/envs/MiniAM2/lib/python3.10/site-packages/torchvision/image.so, 0x0006): Symbol not found: (__ZN3c106detail19maybe_wrap_dim_slowIxEET_S2_S2_b)\n",
      "  Referenced from: '/Users/borjasanchez/miniforge3/envs/MiniAM2/lib/python3.10/site-packages/torchvision/image.so'\n",
      "  Expected in: '/Users/borjasanchez/miniforge3/envs/MiniAM2/lib/python3.10/site-packages/torch/lib/libc10.dylib''If you don't plan on using image functionality from `torchvision.io`, you can ignore this warning. Otherwise, there might be something wrong with your environment. Did you have `libjpeg` or `libpng` installed before building `torchvision` from source?\n",
      "  warn(\n"
     ]
    },
    {
     "name": "stderr",
     "output_type": "stream",
     "text": [
      "/Users/borjasanchez/miniforge3/envs/MiniAM2/lib/python3.10/site-packages/torchvision/io/image.py:13: UserWarning: Failed to load image Python extension: 'dlopen(/Users/borjasanchez/miniforge3/envs/MiniAM2/lib/python3.10/site-packages/torchvision/image.so, 0x0006): Symbol not found: (__ZN3c106detail19maybe_wrap_dim_slowIxEET_S2_S2_b)\n",
      "  Referenced from: '/Users/borjasanchez/miniforge3/envs/MiniAM2/lib/python3.10/site-packages/torchvision/image.so'\n",
      "  Expected in: '/Users/borjasanchez/miniforge3/envs/MiniAM2/lib/python3.10/site-packages/torch/lib/libc10.dylib''If you don't plan on using image functionality from `torchvision.io`, you can ignore this warning. Otherwise, there might be something wrong with your environment. Did you have `libjpeg` or `libpng` installed before building `torchvision` from source?\n",
      "  warn(\n",
      "/Users/borjasanchez/miniforge3/envs/MiniAM2/lib/python3.10/site-packages/torchvision/io/image.py:13: UserWarning: Failed to load image Python extension: 'dlopen(/Users/borjasanchez/miniforge3/envs/MiniAM2/lib/python3.10/site-packages/torchvision/image.so, 0x0006): Symbol not found: (__ZN3c106detail19maybe_wrap_dim_slowIxEET_S2_S2_b)\n",
      "  Referenced from: '/Users/borjasanchez/miniforge3/envs/MiniAM2/lib/python3.10/site-packages/torchvision/image.so'\n",
      "  Expected in: '/Users/borjasanchez/miniforge3/envs/MiniAM2/lib/python3.10/site-packages/torch/lib/libc10.dylib''If you don't plan on using image functionality from `torchvision.io`, you can ignore this warning. Otherwise, there might be something wrong with your environment. Did you have `libjpeg` or `libpng` installed before building `torchvision` from source?\n",
      "  warn(\n",
      "/Users/borjasanchez/miniforge3/envs/MiniAM2/lib/python3.10/site-packages/torchvision/io/image.py:13: UserWarning: Failed to load image Python extension: 'dlopen(/Users/borjasanchez/miniforge3/envs/MiniAM2/lib/python3.10/site-packages/torchvision/image.so, 0x0006): Symbol not found: (__ZN3c106detail19maybe_wrap_dim_slowIxEET_S2_S2_b)\n",
      "  Referenced from: '/Users/borjasanchez/miniforge3/envs/MiniAM2/lib/python3.10/site-packages/torchvision/image.so'\n",
      "  Expected in: '/Users/borjasanchez/miniforge3/envs/MiniAM2/lib/python3.10/site-packages/torch/lib/libc10.dylib''If you don't plan on using image functionality from `torchvision.io`, you can ignore this warning. Otherwise, there might be something wrong with your environment. Did you have `libjpeg` or `libpng` installed before building `torchvision` from source?\n",
      "  warn(\n",
      "Predicting...: 100%|██████████████████████████████████████████████████████████████████████████████████████████████████████████████████████████| 5/5 [00:27<00:00,  5.44s/it]\n"
     ]
    },
    {
     "data": {
      "text/plain": [
       "{'General info': {'Model': 'M2',\n",
       "  'Parameters': 8083936,\n",
       "  'MB': 30.8377685546875,\n",
       "  'users/s': (84.30589061420594,),\n",
       "  's/user': 0.01186156735566821},\n",
       " 'ovmvw': {'es': {'Coverage': 100.0,\n",
       "   'Accuracy': 77.28731942215089,\n",
       "   'F1': 69.9373481712464,\n",
       "   'Recall': 81.91272659960092,\n",
       "   'Precision': 68.77839305147569,\n",
       "   'Loss': 0.5546336195253407,\n",
       "   'Loss TF': 0.5546336195654692},\n",
       "  'en': {'Coverage': 100.0,\n",
       "   'Accuracy': 80.9175801867641,\n",
       "   'F1': 76.81448163901038,\n",
       "   'Recall': 84.54630212363926,\n",
       "   'Precision': 73.7524979177544,\n",
       "   'Loss': 0.4930390520153234,\n",
       "   'Loss TF': 0.49303905201532333},\n",
       "  'fr': {'Coverage': 100.0,\n",
       "   'Accuracy': 68.44819503047351,\n",
       "   'F1': 63.64329230708541,\n",
       "   'Recall': 74.19419037714944,\n",
       "   'Precision': 63.790855529126446,\n",
       "   'Loss': 0.769122672305627,\n",
       "   'Loss TF': 0.769122672305627}},\n",
       " 'hvo': {'es': {'Coverage': 100.0,\n",
       "   'Accuracy': 87.80096308186197,\n",
       "   'F1': 70.6919710559383,\n",
       "   'Recall': 89.85924255385333,\n",
       "   'Precision': 66.06790181510392,\n",
       "   'Loss': 0.2944518091839351,\n",
       "   'Loss TF': 0.294451809464834},\n",
       "  'en': {'Coverage': 100.0,\n",
       "   'Accuracy': 93.82866423061307,\n",
       "   'F1': 82.25914679222537,\n",
       "   'Recall': 93.47502334856247,\n",
       "   'Precision': 76.46666523245057,\n",
       "   'Loss': 0.17966913070130727,\n",
       "   'Loss TF': 0.17966913090431175},\n",
       "  'fr': {'Coverage': 100.0,\n",
       "   'Accuracy': 82.23159868729489,\n",
       "   'F1': 66.56835211607182,\n",
       "   'Recall': 83.257203710549,\n",
       "   'Precision': 63.90326552738279,\n",
       "   'Loss': 0.41762102621484404,\n",
       "   'Loss TF': 0.41762102640237325}},\n",
       " 'mvw': {'es': {'Coverage': 100.0,\n",
       "   'Accuracy': 88.19503849443969,\n",
       "   'F1': 88.19379442732343,\n",
       "   'Recall': 88.25331171279333,\n",
       "   'Precision': 88.30176425702781,\n",
       "   'Loss': 0.2773195343758695,\n",
       "   'Loss TF': 0.2773195346752707},\n",
       "  'en': {'Coverage': 100.0,\n",
       "   'Accuracy': 85.93886462882097,\n",
       "   'F1': 85.82189478768414,\n",
       "   'Recall': 85.71360713549676,\n",
       "   'Precision': 86.03518395548551,\n",
       "   'Loss': 0.3370437188630662,\n",
       "   'Loss TF': 0.3370437191687431},\n",
       "  'fr': {'Coverage': 100.0,\n",
       "   'Accuracy': 83.56304236855539,\n",
       "   'F1': 83.06789826533988,\n",
       "   'Recall': 83.02181436879215,\n",
       "   'Precision': 83.11697318732743,\n",
       "   'Loss': 0.3827223129717408,\n",
       "   'Loss TF': 0.38272231297174075}}}"
      ]
     },
     "execution_count": 11,
     "metadata": {},
     "output_type": "execute_result"
    }
   ],
   "source": [
    "m2.compute_metrics(test_sets, label=\"label\")"
   ]
  },
  {
   "cell_type": "markdown",
   "id": "e6d3a220",
   "metadata": {},
   "source": [
    "### Even a submodel of MiniAM2 (logistic regression layer is random for loaded MiniAM2 since it does not belong to the model)"
   ]
  },
  {
   "cell_type": "code",
   "execution_count": 4,
   "id": "fccbe843",
   "metadata": {},
   "outputs": [
    {
     "name": "stdout",
     "output_type": "stream",
     "text": [
      "5/5 [==============================] - 0s 2ms/step\n",
      "5/5 [==============================] - 0s 2ms/step\n",
      "5/5 [==============================] - 0s 2ms/step\n"
     ]
    },
    {
     "data": {
      "text/plain": [
       "{'General info': {'Model': 'FFNN_screen_name',\n",
       "  'Parameters': 152142,\n",
       "  'MB': 0.5815773010253906,\n",
       "  'users/s': (41462.5978192263,),\n",
       "  's/user': 2.4118122177484443e-05},\n",
       " 'ovmvw': {'es': {'Coverage': 100.0,\n",
       "   'Accuracy': 16.452648475120384,\n",
       "   'F1': 15.54564992690258,\n",
       "   'Recall': 23.597698009239863,\n",
       "   'Precision': 26.60909801215639,\n",
       "   'Loss': 2.3237619908504215,\n",
       "   'Loss TF': 2.3237617015838623},\n",
       "  'en': {'Coverage': 100.0,\n",
       "   'Accuracy': 22.45229395046691,\n",
       "   'F1': 20.002359089703532,\n",
       "   'Recall': 26.96605888017017,\n",
       "   'Precision': 29.79780054314216,\n",
       "   'Loss': 1.749281907781544,\n",
       "   'Loss TF': 1.7492817640304565},\n",
       "  'fr': {'Coverage': 100.0,\n",
       "   'Accuracy': 22.315986872948898,\n",
       "   'F1': 19.543770281615156,\n",
       "   'Recall': 26.764592010515248,\n",
       "   'Precision': 26.766391818753014,\n",
       "   'Loss': 1.7764062593078291,\n",
       "   'Loss TF': 1.776406168937683}},\n",
       " 'hvo': {'es': {'Coverage': 100.0,\n",
       "   'Accuracy': 58.70786516853933,\n",
       "   'F1': 40.252465201979845,\n",
       "   'Recall': 43.11571661871063,\n",
       "   'Precision': 48.30997765682326,\n",
       "   'Loss': 1.2759695286263195,\n",
       "   'Loss TF': 1.275969386100769},\n",
       "  'en': {'Coverage': 100.0,\n",
       "   'Accuracy': 60.6171335769387,\n",
       "   'F1': 42.558535182659774,\n",
       "   'Recall': 47.560516949794284,\n",
       "   'Precision': 49.315829266324315,\n",
       "   'Loss': 0.8901401988465453,\n",
       "   'Loss TF': 0.8901402950286865},\n",
       "  'fr': {'Coverage': 100.0,\n",
       "   'Accuracy': 60.056258790436004,\n",
       "   'F1': 42.907856674315326,\n",
       "   'Recall': 47.357906039323375,\n",
       "   'Precision': 49.15115413253909,\n",
       "   'Loss': 0.9478596405261984,\n",
       "   'Loss TF': 0.9478595852851868}},\n",
       " 'mvw': {'es': {'Coverage': 100.0,\n",
       "   'Accuracy': 50.213857998289136,\n",
       "   'F1': 41.55306294085963,\n",
       "   'Recall': 51.02567012082856,\n",
       "   'Precision': 52.73223670739199,\n",
       "   'Loss': 1.1168087284828858,\n",
       "   'Loss TF': 1.1168087720870972},\n",
       "  'en': {'Coverage': 100.0,\n",
       "   'Accuracy': 53.493449781659386,\n",
       "   'F1': 43.451873750108696,\n",
       "   'Recall': 50.92074385806846,\n",
       "   'Precision': 52.30802912979351,\n",
       "   'Loss': 0.9240462941125999,\n",
       "   'Loss TF': 0.9240463376045227},\n",
       "  'fr': {'Coverage': 100.0,\n",
       "   'Accuracy': 56.610515569167944,\n",
       "   'F1': 43.379038598075674,\n",
       "   'Recall': 49.93261412176419,\n",
       "   'Precision': 49.818114994154215,\n",
       "   'Loss': 0.9021388122145237,\n",
       "   'Loss TF': 0.9021388292312622}}}"
      ]
     },
     "execution_count": 4,
     "metadata": {},
     "output_type": "execute_result"
    }
   ],
   "source": [
    "miniam2.text_models['screen_name_ffnn_char'].compute_metrics(test_sets, label=\"label\")"
   ]
  },
  {
   "cell_type": "code",
   "execution_count": 7,
   "id": "47ae37c5",
   "metadata": {},
   "outputs": [
    {
     "data": {
      "text/plain": [
       "{'vocabulary_size': 32768,\n",
       " 'input_length': 8,\n",
       " 'split': 'whitespace',\n",
       " 'variable': 'name',\n",
       " 'output_mode': 'int'}"
      ]
     },
     "execution_count": 7,
     "metadata": {},
     "output_type": "execute_result"
    }
   ],
   "source": [
    "miniam2.text_models['name_ffnn_word'].tokenizer_args"
   ]
  },
  {
   "cell_type": "code",
   "execution_count": null,
   "id": "abc38c63",
   "metadata": {},
   "outputs": [],
   "source": []
  }
 ],
 "metadata": {
  "kernelspec": {
   "display_name": "Python 3 (ipykernel)",
   "language": "python",
   "name": "python3"
  },
  "language_info": {
   "codemirror_mode": {
    "name": "ipython",
    "version": 3
   },
   "file_extension": ".py",
   "mimetype": "text/x-python",
   "name": "python",
   "nbconvert_exporter": "python",
   "pygments_lexer": "ipython3",
   "version": "3.10.9"
  }
 },
 "nbformat": 4,
 "nbformat_minor": 5
}
