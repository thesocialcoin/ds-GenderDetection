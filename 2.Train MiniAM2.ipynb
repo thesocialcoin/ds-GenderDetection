{
 "cells": [
  {
   "cell_type": "markdown",
   "id": "8ad08208",
   "metadata": {},
   "source": [
    "## Fit the MiniAM2 model"
   ]
  },
  {
   "cell_type": "markdown",
   "id": "abac7dae",
   "metadata": {},
   "source": [
    "### Load model"
   ]
  },
  {
   "cell_type": "code",
   "execution_count": 2,
   "id": "1e157bd0",
   "metadata": {},
   "outputs": [
    {
     "name": "stderr",
     "output_type": "stream",
     "text": [
      "INFO:root:Do not standardize\n",
      "INFO:root:Do not standardize\n",
      "INFO:root:Do not standardize\n"
     ]
    }
   ],
   "source": [
    "from src.models.miniam2 import MiniAM2Classifier\n",
    "\n",
    "miniam2 = MiniAM2Classifier()"
   ]
  },
  {
   "cell_type": "markdown",
   "id": "dbbddfea",
   "metadata": {},
   "source": [
    "### Load the whole training data (remove unlabeled data)"
   ]
  },
  {
   "cell_type": "code",
   "execution_count": 4,
   "id": "6cb6baca",
   "metadata": {},
   "outputs": [
    {
     "name": "stdout",
     "output_type": "stream",
     "text": [
      "500\n",
      "382\n"
     ]
    }
   ],
   "source": [
    "from src.utils import get_data\n",
    "\n",
    "data = get_data(\"data/training_data/soft_labeled_data.zip\")\n",
    "print(len(data))\n",
    "data = data.loc[data.loc[:, \"label\"] != -1]\n",
    "print(len(data))"
   ]
  },
  {
   "cell_type": "markdown",
   "id": "e01eb452",
   "metadata": {},
   "source": [
    "### Do some dumb preprocessing to the data (remove accents, unify font style)"
   ]
  },
  {
   "cell_type": "code",
   "execution_count": 5,
   "id": "fac65d57",
   "metadata": {},
   "outputs": [],
   "source": [
    "from src.utils import preprocess_multiple_substitution\n",
    "\n",
    "for col in ['screen_name', 'name', 'bio']:\n",
    "    data[col] = data[col].apply(lambda x: preprocess_multiple_substitution(x))\n"
   ]
  },
  {
   "cell_type": "markdown",
   "id": "600933c3",
   "metadata": {},
   "source": [
    "### Adapt again the tokenizers to the whole data"
   ]
  },
  {
   "cell_type": "code",
   "execution_count": 6,
   "id": "cec29244",
   "metadata": {},
   "outputs": [
    {
     "name": "stderr",
     "output_type": "stream",
     "text": [
      "INFO:root:Adapting vocabularies...\n",
      "2023-05-07 15:49:30.588905: W tensorflow/tsl/platform/profile_utils/cpu_utils.cc:128] Failed to get CPU frequency: 0 Hz\n",
      "INFO:root:Adapted.\n",
      "INFO:root:Adapting vocabularies...\n",
      "INFO:root:Adapted.\n",
      "INFO:root:Adapting vocabularies...\n",
      "INFO:root:Adapted.\n",
      "INFO:root:Adapting vocabularies...\n",
      "INFO:root:Adapted.\n",
      "INFO:root:Adapting vocabularies...\n",
      "INFO:root:Adapted.\n"
     ]
    }
   ],
   "source": [
    "miniam2.adapt_text_models_tokenizers(data)"
   ]
  },
  {
   "cell_type": "markdown",
   "id": "8a8bd778",
   "metadata": {},
   "source": [
    "### Fit text models! You can specify several arguments for the training so far (lr, epochs, batch, test_size)"
   ]
  },
  {
   "cell_type": "code",
   "execution_count": 7,
   "id": "57560e1c",
   "metadata": {},
   "outputs": [
    {
     "name": "stderr",
     "output_type": "stream",
     "text": [
      "INFO:root:Text model screen_name_ffnn_char training...\n",
      "INFO:root:Total trainable parameters: 152067\n"
     ]
    },
    {
     "name": "stdout",
     "output_type": "stream",
     "text": [
      "Epoch 1/80\n",
      "1/1 [==============================] - 0s 302ms/step - loss: 1.1265 - accuracy: 0.2391 - val_loss: 1.0952 - val_accuracy: 0.4103\n",
      "Epoch 2/80\n",
      "1/1 [==============================] - 0s 21ms/step - loss: 1.0960 - accuracy: 0.3819 - val_loss: 1.0850 - val_accuracy: 0.4359\n",
      "Epoch 3/80\n",
      "1/1 [==============================] - 0s 21ms/step - loss: 1.0870 - accuracy: 0.3848 - val_loss: 1.0760 - val_accuracy: 0.4359\n",
      "Epoch 4/80\n",
      "1/1 [==============================] - 0s 21ms/step - loss: 1.0686 - accuracy: 0.4606 - val_loss: 1.0667 - val_accuracy: 0.4359\n",
      "Epoch 5/80\n",
      "1/1 [==============================] - 0s 21ms/step - loss: 1.0585 - accuracy: 0.4577 - val_loss: 1.0575 - val_accuracy: 0.4359\n",
      "Epoch 6/80\n",
      "1/1 [==============================] - 0s 21ms/step - loss: 1.0446 - accuracy: 0.5190 - val_loss: 1.0485 - val_accuracy: 0.4359\n",
      "Epoch 7/80\n",
      "1/1 [==============================] - 0s 21ms/step - loss: 1.0187 - accuracy: 0.4577 - val_loss: 1.0400 - val_accuracy: 0.4872\n",
      "Epoch 8/80\n",
      "1/1 [==============================] - 0s 21ms/step - loss: 1.0127 - accuracy: 0.4985 - val_loss: 1.0325 - val_accuracy: 0.5128\n",
      "Epoch 9/80\n",
      "1/1 [==============================] - 0s 21ms/step - loss: 1.0150 - accuracy: 0.4665 - val_loss: 1.0256 - val_accuracy: 0.5385\n",
      "Epoch 10/80\n",
      "1/1 [==============================] - 0s 21ms/step - loss: 0.9966 - accuracy: 0.5481 - val_loss: 1.0191 - val_accuracy: 0.5385\n",
      "Epoch 11/80\n",
      "1/1 [==============================] - 0s 21ms/step - loss: 0.9857 - accuracy: 0.5160 - val_loss: 1.0136 - val_accuracy: 0.4872\n",
      "Epoch 12/80\n",
      "1/1 [==============================] - 0s 21ms/step - loss: 0.9630 - accuracy: 0.5160 - val_loss: 1.0092 - val_accuracy: 0.4872\n",
      "Epoch 13/80\n",
      "1/1 [==============================] - 0s 21ms/step - loss: 0.9652 - accuracy: 0.4665 - val_loss: 1.0062 - val_accuracy: 0.5128\n",
      "Epoch 14/80\n",
      "1/1 [==============================] - 0s 21ms/step - loss: 0.9564 - accuracy: 0.5044 - val_loss: 1.0045 - val_accuracy: 0.4872\n",
      "Epoch 15/80\n",
      "1/1 [==============================] - 0s 21ms/step - loss: 0.9537 - accuracy: 0.4665 - val_loss: 1.0040 - val_accuracy: 0.4359\n",
      "Epoch 16/80\n",
      "1/1 [==============================] - 0s 21ms/step - loss: 0.9258 - accuracy: 0.4840 - val_loss: 1.0047 - val_accuracy: 0.4359\n",
      "Epoch 17/80\n",
      "1/1 [==============================] - 0s 20ms/step - loss: 0.9365 - accuracy: 0.5160 - val_loss: 1.0066 - val_accuracy: 0.4359\n",
      "Epoch 18/80\n",
      "1/1 [==============================] - 0s 24ms/step - loss: 0.9347 - accuracy: 0.4898 - val_loss: 1.0094 - val_accuracy: 0.4359\n"
     ]
    },
    {
     "name": "stderr",
     "output_type": "stream",
     "text": [
      "INFO:root:Text model name_ffnn_char training...\n",
      "INFO:root:Total trainable parameters: 152067\n"
     ]
    },
    {
     "name": "stdout",
     "output_type": "stream",
     "text": [
      "Epoch 1/80\n",
      "1/1 [==============================] - 0s 325ms/step - loss: 1.1062 - accuracy: 0.3324 - val_loss: 1.0907 - val_accuracy: 0.4872\n",
      "Epoch 2/80\n",
      "1/1 [==============================] - 0s 21ms/step - loss: 1.0882 - accuracy: 0.3761 - val_loss: 1.0830 - val_accuracy: 0.4359\n",
      "Epoch 3/80\n",
      "1/1 [==============================] - 0s 21ms/step - loss: 1.0788 - accuracy: 0.4315 - val_loss: 1.0756 - val_accuracy: 0.4359\n",
      "Epoch 4/80\n",
      "1/1 [==============================] - 0s 21ms/step - loss: 1.0582 - accuracy: 0.4752 - val_loss: 1.0679 - val_accuracy: 0.4359\n",
      "Epoch 5/80\n",
      "1/1 [==============================] - 0s 23ms/step - loss: 1.0573 - accuracy: 0.4752 - val_loss: 1.0597 - val_accuracy: 0.4359\n",
      "Epoch 6/80\n",
      "1/1 [==============================] - 0s 22ms/step - loss: 1.0387 - accuracy: 0.4810 - val_loss: 1.0513 - val_accuracy: 0.4103\n",
      "Epoch 7/80\n",
      "1/1 [==============================] - 0s 21ms/step - loss: 1.0228 - accuracy: 0.4985 - val_loss: 1.0418 - val_accuracy: 0.4103\n",
      "Epoch 8/80\n",
      "1/1 [==============================] - 0s 21ms/step - loss: 1.0110 - accuracy: 0.5131 - val_loss: 1.0319 - val_accuracy: 0.4103\n",
      "Epoch 9/80\n",
      "1/1 [==============================] - 0s 21ms/step - loss: 1.0087 - accuracy: 0.4840 - val_loss: 1.0219 - val_accuracy: 0.4103\n",
      "Epoch 10/80\n",
      "1/1 [==============================] - 0s 21ms/step - loss: 0.9761 - accuracy: 0.5510 - val_loss: 1.0119 - val_accuracy: 0.4615\n",
      "Epoch 11/80\n",
      "1/1 [==============================] - 0s 21ms/step - loss: 0.9754 - accuracy: 0.5102 - val_loss: 1.0021 - val_accuracy: 0.5128\n",
      "Epoch 12/80\n",
      "1/1 [==============================] - 0s 21ms/step - loss: 0.9489 - accuracy: 0.5102 - val_loss: 0.9928 - val_accuracy: 0.5128\n",
      "Epoch 13/80\n",
      "1/1 [==============================] - 0s 21ms/step - loss: 0.9438 - accuracy: 0.5569 - val_loss: 0.9844 - val_accuracy: 0.5128\n",
      "Epoch 14/80\n",
      "1/1 [==============================] - 0s 22ms/step - loss: 0.9470 - accuracy: 0.5306 - val_loss: 0.9772 - val_accuracy: 0.5128\n",
      "Epoch 15/80\n",
      "1/1 [==============================] - 0s 21ms/step - loss: 0.9240 - accuracy: 0.5102 - val_loss: 0.9712 - val_accuracy: 0.5128\n",
      "Epoch 16/80\n",
      "1/1 [==============================] - 0s 22ms/step - loss: 0.9300 - accuracy: 0.5335 - val_loss: 0.9667 - val_accuracy: 0.5128\n",
      "Epoch 17/80\n",
      "1/1 [==============================] - 0s 21ms/step - loss: 0.9142 - accuracy: 0.5277 - val_loss: 0.9636 - val_accuracy: 0.4615\n",
      "Epoch 18/80\n",
      "1/1 [==============================] - 0s 21ms/step - loss: 0.8876 - accuracy: 0.5335 - val_loss: 0.9615 - val_accuracy: 0.4615\n",
      "Epoch 19/80\n",
      "1/1 [==============================] - 0s 21ms/step - loss: 0.9216 - accuracy: 0.5423 - val_loss: 0.9604 - val_accuracy: 0.4615\n",
      "Epoch 20/80\n",
      "1/1 [==============================] - 0s 21ms/step - loss: 0.9051 - accuracy: 0.5015 - val_loss: 0.9600 - val_accuracy: 0.4615\n",
      "Epoch 21/80\n",
      "1/1 [==============================] - 0s 21ms/step - loss: 0.9054 - accuracy: 0.5190 - val_loss: 0.9603 - val_accuracy: 0.4615\n",
      "Epoch 22/80\n",
      "1/1 [==============================] - 0s 21ms/step - loss: 0.8889 - accuracy: 0.5423 - val_loss: 0.9609 - val_accuracy: 0.4872\n",
      "Epoch 23/80\n",
      "1/1 [==============================] - 0s 21ms/step - loss: 0.8696 - accuracy: 0.5423 - val_loss: 0.9615 - val_accuracy: 0.5385\n"
     ]
    },
    {
     "name": "stderr",
     "output_type": "stream",
     "text": [
      "INFO:root:Text model name_ffnn_word training...\n",
      "INFO:root:Total trainable parameters: 1131011\n"
     ]
    },
    {
     "name": "stdout",
     "output_type": "stream",
     "text": [
      "Epoch 1/80\n",
      "1/1 [==============================] - 0s 265ms/step - loss: 1.1134 - accuracy: 0.2595 - val_loss: 1.0950 - val_accuracy: 0.3590\n",
      "Epoch 2/80\n",
      "1/1 [==============================] - 0s 23ms/step - loss: 1.0903 - accuracy: 0.4082 - val_loss: 1.0826 - val_accuracy: 0.3846\n",
      "Epoch 3/80\n",
      "1/1 [==============================] - 0s 23ms/step - loss: 1.0678 - accuracy: 0.4665 - val_loss: 1.0728 - val_accuracy: 0.4359\n",
      "Epoch 4/80\n",
      "1/1 [==============================] - 0s 24ms/step - loss: 1.0645 - accuracy: 0.4752 - val_loss: 1.0636 - val_accuracy: 0.4615\n",
      "Epoch 5/80\n",
      "1/1 [==============================] - 0s 24ms/step - loss: 1.0418 - accuracy: 0.4665 - val_loss: 1.0543 - val_accuracy: 0.4359\n",
      "Epoch 6/80\n",
      "1/1 [==============================] - 0s 23ms/step - loss: 1.0340 - accuracy: 0.4840 - val_loss: 1.0450 - val_accuracy: 0.3846\n",
      "Epoch 7/80\n",
      "1/1 [==============================] - 0s 23ms/step - loss: 1.0142 - accuracy: 0.4898 - val_loss: 1.0361 - val_accuracy: 0.4359\n",
      "Epoch 8/80\n",
      "1/1 [==============================] - 0s 23ms/step - loss: 1.0176 - accuracy: 0.4752 - val_loss: 1.0277 - val_accuracy: 0.4615\n",
      "Epoch 9/80\n",
      "1/1 [==============================] - 0s 23ms/step - loss: 0.9963 - accuracy: 0.5044 - val_loss: 1.0199 - val_accuracy: 0.4615\n",
      "Epoch 10/80\n",
      "1/1 [==============================] - 0s 23ms/step - loss: 0.9770 - accuracy: 0.4810 - val_loss: 1.0128 - val_accuracy: 0.4615\n",
      "Epoch 11/80\n",
      "1/1 [==============================] - 0s 28ms/step - loss: 0.9731 - accuracy: 0.4752 - val_loss: 1.0071 - val_accuracy: 0.4615\n",
      "Epoch 12/80\n",
      "1/1 [==============================] - 0s 25ms/step - loss: 0.9467 - accuracy: 0.5248 - val_loss: 1.0028 - val_accuracy: 0.4615\n",
      "Epoch 13/80\n",
      "1/1 [==============================] - 0s 25ms/step - loss: 0.9625 - accuracy: 0.4344 - val_loss: 1.0004 - val_accuracy: 0.4615\n",
      "Epoch 14/80\n",
      "1/1 [==============================] - 0s 24ms/step - loss: 0.9295 - accuracy: 0.5102 - val_loss: 0.9999 - val_accuracy: 0.4615\n",
      "Epoch 15/80\n",
      "1/1 [==============================] - 0s 23ms/step - loss: 0.9378 - accuracy: 0.4694 - val_loss: 1.0012 - val_accuracy: 0.4615\n",
      "Epoch 16/80\n",
      "1/1 [==============================] - 0s 22ms/step - loss: 0.9294 - accuracy: 0.4869 - val_loss: 1.0040 - val_accuracy: 0.4615\n",
      "Epoch 17/80\n",
      "1/1 [==============================] - 0s 25ms/step - loss: 0.9377 - accuracy: 0.5044 - val_loss: 1.0078 - val_accuracy: 0.4615\n"
     ]
    },
    {
     "name": "stderr",
     "output_type": "stream",
     "text": [
      "INFO:root:Text model bio_ffnn_char training...\n",
      "INFO:root:Total trainable parameters: 152067\n"
     ]
    },
    {
     "name": "stdout",
     "output_type": "stream",
     "text": [
      "Epoch 1/80\n",
      "1/1 [==============================] - 0s 270ms/step - loss: 1.0917 - accuracy: 0.3907 - val_loss: 1.0851 - val_accuracy: 0.4359\n",
      "Epoch 2/80\n",
      "1/1 [==============================] - 0s 23ms/step - loss: 1.0748 - accuracy: 0.4548 - val_loss: 1.0785 - val_accuracy: 0.4103\n",
      "Epoch 3/80\n",
      "1/1 [==============================] - 0s 23ms/step - loss: 1.0623 - accuracy: 0.4431 - val_loss: 1.0719 - val_accuracy: 0.4359\n",
      "Epoch 4/80\n",
      "1/1 [==============================] - 0s 23ms/step - loss: 1.0547 - accuracy: 0.4577 - val_loss: 1.0655 - val_accuracy: 0.4359\n",
      "Epoch 5/80\n",
      "1/1 [==============================] - 0s 24ms/step - loss: 1.0411 - accuracy: 0.4985 - val_loss: 1.0593 - val_accuracy: 0.3590\n",
      "Epoch 6/80\n",
      "1/1 [==============================] - 0s 23ms/step - loss: 1.0274 - accuracy: 0.5102 - val_loss: 1.0532 - val_accuracy: 0.3590\n",
      "Epoch 7/80\n",
      "1/1 [==============================] - 0s 23ms/step - loss: 1.0118 - accuracy: 0.5015 - val_loss: 1.0472 - val_accuracy: 0.3590\n",
      "Epoch 8/80\n",
      "1/1 [==============================] - 0s 23ms/step - loss: 0.9974 - accuracy: 0.5190 - val_loss: 1.0414 - val_accuracy: 0.3590\n",
      "Epoch 9/80\n",
      "1/1 [==============================] - 0s 22ms/step - loss: 0.9909 - accuracy: 0.5306 - val_loss: 1.0360 - val_accuracy: 0.3590\n",
      "Epoch 10/80\n",
      "1/1 [==============================] - 0s 23ms/step - loss: 0.9762 - accuracy: 0.5044 - val_loss: 1.0312 - val_accuracy: 0.3590\n",
      "Epoch 11/80\n",
      "1/1 [==============================] - 0s 23ms/step - loss: 0.9765 - accuracy: 0.4752 - val_loss: 1.0271 - val_accuracy: 0.3590\n",
      "Epoch 12/80\n",
      "1/1 [==============================] - 0s 23ms/step - loss: 0.9666 - accuracy: 0.4898 - val_loss: 1.0238 - val_accuracy: 0.3590\n",
      "Epoch 13/80\n",
      "1/1 [==============================] - 0s 23ms/step - loss: 0.9521 - accuracy: 0.5306 - val_loss: 1.0212 - val_accuracy: 0.3590\n",
      "Epoch 14/80\n",
      "1/1 [==============================] - 0s 23ms/step - loss: 0.9391 - accuracy: 0.4985 - val_loss: 1.0196 - val_accuracy: 0.3590\n",
      "Epoch 15/80\n",
      "1/1 [==============================] - 0s 23ms/step - loss: 0.9363 - accuracy: 0.4781 - val_loss: 1.0188 - val_accuracy: 0.3590\n",
      "Epoch 16/80\n",
      "1/1 [==============================] - 0s 22ms/step - loss: 0.9105 - accuracy: 0.5306 - val_loss: 1.0188 - val_accuracy: 0.3590\n",
      "Epoch 17/80\n",
      "1/1 [==============================] - 0s 22ms/step - loss: 0.9112 - accuracy: 0.5219 - val_loss: 1.0201 - val_accuracy: 0.3590\n",
      "Epoch 18/80\n",
      "1/1 [==============================] - 0s 22ms/step - loss: 0.8919 - accuracy: 0.5685 - val_loss: 1.0228 - val_accuracy: 0.3333\n",
      "Epoch 19/80\n",
      "1/1 [==============================] - 0s 23ms/step - loss: 0.8688 - accuracy: 0.5423 - val_loss: 1.0264 - val_accuracy: 0.3333\n"
     ]
    },
    {
     "name": "stderr",
     "output_type": "stream",
     "text": [
      "INFO:root:Text model bio_ffnn_word training...\n",
      "INFO:root:Total trainable parameters: 1196547\n"
     ]
    },
    {
     "name": "stdout",
     "output_type": "stream",
     "text": [
      "Epoch 1/80\n",
      "1/1 [==============================] - 0s 268ms/step - loss: 1.0846 - accuracy: 0.4286 - val_loss: 1.0741 - val_accuracy: 0.4615\n",
      "Epoch 2/80\n",
      "1/1 [==============================] - 0s 26ms/step - loss: 1.0633 - accuracy: 0.4752 - val_loss: 1.0586 - val_accuracy: 0.4615\n",
      "Epoch 3/80\n",
      "1/1 [==============================] - 0s 26ms/step - loss: 1.0481 - accuracy: 0.4431 - val_loss: 1.0422 - val_accuracy: 0.4615\n",
      "Epoch 4/80\n",
      "1/1 [==============================] - 0s 26ms/step - loss: 1.0373 - accuracy: 0.4169 - val_loss: 1.0268 - val_accuracy: 0.4615\n",
      "Epoch 5/80\n",
      "1/1 [==============================] - 0s 26ms/step - loss: 1.0160 - accuracy: 0.4636 - val_loss: 1.0111 - val_accuracy: 0.4615\n",
      "Epoch 6/80\n",
      "1/1 [==============================] - 0s 25ms/step - loss: 0.9997 - accuracy: 0.5277 - val_loss: 0.9958 - val_accuracy: 0.4615\n",
      "Epoch 7/80\n",
      "1/1 [==============================] - 0s 26ms/step - loss: 0.9838 - accuracy: 0.5044 - val_loss: 0.9811 - val_accuracy: 0.4615\n",
      "Epoch 8/80\n",
      "1/1 [==============================] - 0s 26ms/step - loss: 0.9649 - accuracy: 0.5248 - val_loss: 0.9671 - val_accuracy: 0.4615\n",
      "Epoch 9/80\n",
      "1/1 [==============================] - 0s 26ms/step - loss: 0.9558 - accuracy: 0.4810 - val_loss: 0.9547 - val_accuracy: 0.4615\n",
      "Epoch 10/80\n",
      "1/1 [==============================] - 0s 26ms/step - loss: 0.9502 - accuracy: 0.5015 - val_loss: 0.9445 - val_accuracy: 0.4615\n",
      "Epoch 11/80\n",
      "1/1 [==============================] - 0s 26ms/step - loss: 0.9275 - accuracy: 0.5277 - val_loss: 0.9356 - val_accuracy: 0.4615\n",
      "Epoch 12/80\n",
      "1/1 [==============================] - 0s 26ms/step - loss: 0.9149 - accuracy: 0.5219 - val_loss: 0.9283 - val_accuracy: 0.4615\n",
      "Epoch 13/80\n",
      "1/1 [==============================] - 0s 27ms/step - loss: 0.9149 - accuracy: 0.5219 - val_loss: 0.9222 - val_accuracy: 0.4615\n",
      "Epoch 14/80\n",
      "1/1 [==============================] - 0s 26ms/step - loss: 0.9143 - accuracy: 0.5160 - val_loss: 0.9174 - val_accuracy: 0.4615\n",
      "Epoch 15/80\n",
      "1/1 [==============================] - 0s 25ms/step - loss: 0.8967 - accuracy: 0.5248 - val_loss: 0.9135 - val_accuracy: 0.4615\n",
      "Epoch 16/80\n",
      "1/1 [==============================] - 0s 26ms/step - loss: 0.9010 - accuracy: 0.5481 - val_loss: 0.9109 - val_accuracy: 0.4615\n",
      "Epoch 17/80\n",
      "1/1 [==============================] - 0s 26ms/step - loss: 0.9111 - accuracy: 0.4985 - val_loss: 0.9097 - val_accuracy: 0.4359\n",
      "Epoch 18/80\n",
      "1/1 [==============================] - 0s 23ms/step - loss: 0.8929 - accuracy: 0.4985 - val_loss: 0.9099 - val_accuracy: 0.3846\n",
      "Epoch 19/80\n",
      "1/1 [==============================] - 0s 24ms/step - loss: 0.9092 - accuracy: 0.5015 - val_loss: 0.9110 - val_accuracy: 0.3846\n",
      "Epoch 20/80\n",
      "1/1 [==============================] - 0s 24ms/step - loss: 0.8815 - accuracy: 0.5481 - val_loss: 0.9130 - val_accuracy: 0.3333\n"
     ]
    }
   ],
   "source": [
    "miniam2.fit_text_models(data, epochs=80)"
   ]
  },
  {
   "cell_type": "markdown",
   "id": "b5b8d1a7",
   "metadata": {},
   "source": [
    "### Train MiniAM2!"
   ]
  },
  {
   "cell_type": "code",
   "execution_count": 31,
   "id": "031f8f69",
   "metadata": {},
   "outputs": [
    {
     "name": "stderr",
     "output_type": "stream",
     "text": [
      "INFO:root:Total trainable parameters: 2783747\n"
     ]
    },
    {
     "name": "stdout",
     "output_type": "stream",
     "text": [
      "Epoch 1/80\n",
      "10306/10306 [==============================] - 250s 24ms/step - loss: 0.2352 - accuracy: 0.9125 - val_loss: 0.2075 - val_accuracy: 0.9239\n",
      "Epoch 2/80\n",
      "10306/10306 [==============================] - 211s 20ms/step - loss: 0.2230 - accuracy: 0.9167 - val_loss: 0.2120 - val_accuracy: 0.9225\n",
      "Epoch 3/80\n",
      "10306/10306 [==============================] - 217s 21ms/step - loss: 0.2133 - accuracy: 0.9203 - val_loss: 0.2171 - val_accuracy: 0.9216\n",
      "Epoch 4/80\n",
      "10306/10306 [==============================] - 270s 26ms/step - loss: 0.2051 - accuracy: 0.9232 - val_loss: 0.2272 - val_accuracy: 0.9200\n"
     ]
    },
    {
     "data": {
      "text/plain": [
       "<keras.callbacks.History at 0x4b1182800>"
      ]
     },
     "execution_count": 31,
     "metadata": {},
     "output_type": "execute_result"
    }
   ],
   "source": [
    "miniam2.fit(data, epochs=80)"
   ]
  },
  {
   "cell_type": "markdown",
   "id": "5970dd64",
   "metadata": {},
   "source": [
    "### Save your version of the model MiniAM2. Specify version with a string, otherwise it will not work"
   ]
  },
  {
   "cell_type": "code",
   "execution_count": 32,
   "id": "dde30f8f",
   "metadata": {},
   "outputs": [
    {
     "name": "stdout",
     "output_type": "stream",
     "text": [
      "INFO:tensorflow:Assets written to: models/miniam2/version/0.0.1/assets\n"
     ]
    },
    {
     "name": "stderr",
     "output_type": "stream",
     "text": [
      "INFO:tensorflow:Assets written to: models/miniam2/version/0.0.1/assets\n"
     ]
    }
   ],
   "source": [
    "# Specify here a version\n",
    "ver = '0.0.2'\n",
    "ver = None   # example:    ver = '0.0.5'\n",
    "\n",
    "miniam2.save_model_to_path('models', version=ver, save_format='tf')"
   ]
  }
 ],
 "metadata": {
  "kernelspec": {
   "display_name": "Python 3 (ipykernel)",
   "language": "python",
   "name": "python3"
  },
  "language_info": {
   "codemirror_mode": {
    "name": "ipython",
    "version": 3
   },
   "file_extension": ".py",
   "mimetype": "text/x-python",
   "name": "python",
   "nbconvert_exporter": "python",
   "pygments_lexer": "ipython3",
   "version": "3.10.9"
  }
 },
 "nbformat": 4,
 "nbformat_minor": 5
}
