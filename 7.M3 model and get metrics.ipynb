{
 "cells": [
  {
   "cell_type": "code",
   "execution_count": 1,
   "id": "b4fa8c73",
   "metadata": {},
   "outputs": [
    {
     "name": "stderr",
     "output_type": "stream",
     "text": [
      "/Users/borjasanchez/miniforge3/envs/MiniAM2/lib/python3.10/site-packages/torchvision/io/image.py:13: UserWarning: Failed to load image Python extension: 'dlopen(/Users/borjasanchez/miniforge3/envs/MiniAM2/lib/python3.10/site-packages/torchvision/image.so, 0x0006): Symbol not found: (__ZN3c106detail19maybe_wrap_dim_slowIxEET_S2_S2_b)\n",
      "  Referenced from: '/Users/borjasanchez/miniforge3/envs/MiniAM2/lib/python3.10/site-packages/torchvision/image.so'\n",
      "  Expected in: '/Users/borjasanchez/miniforge3/envs/MiniAM2/lib/python3.10/site-packages/torch/lib/libc10.dylib''If you don't plan on using image functionality from `torchvision.io`, you can ignore this warning. Otherwise, there might be something wrong with your environment. Did you have `libjpeg` or `libpng` installed before building `torchvision` from source?\n",
      "  warn(\n"
     ]
    }
   ],
   "source": [
    "from src.classifiers.m3 import M2, M3"
   ]
  },
  {
   "cell_type": "code",
   "execution_count": 2,
   "id": "0cf656bd",
   "metadata": {},
   "outputs": [
    {
     "name": "stderr",
     "output_type": "stream",
     "text": [
      "INFO:m3inference.m3inference:Version 1.1.5\n",
      "INFO:m3inference.m3inference:Running on cpu.\n",
      "INFO:m3inference.m3inference:Will use text model. Note that as M3 was optimized to work well with both image and text data,                                     it is not recommended to use text only model unless you do not have the profile image.\n",
      "INFO:m3inference.m3inference:Model text_model exists at /Users/borjasanchez/m3/models/text_model.mdl.\n",
      "INFO:m3inference.utils:Checking MD5 for model text_model at /Users/borjasanchez/m3/models/text_model.mdl\n",
      "INFO:m3inference.utils:MD5s match.\n",
      "INFO:m3inference.m3inference:Loaded pretrained weight at /Users/borjasanchez/m3/models/text_model.mdl\n"
     ]
    }
   ],
   "source": [
    "m3 = M2()"
   ]
  },
  {
   "cell_type": "code",
   "execution_count": 3,
   "id": "de97868d",
   "metadata": {},
   "outputs": [],
   "source": [
    "from src.utils import get_data\n",
    "\n",
    "data = get_data('data/test_data/20220915_test_set_English.csv')"
   ]
  },
  {
   "cell_type": "code",
   "execution_count": 4,
   "id": "095df347",
   "metadata": {},
   "outputs": [
    {
     "name": "stderr",
     "output_type": "stream",
     "text": [
      "INFO:root:M3 predicting...\n",
      "INFO:m3inference.dataset:2463 data entries loaded.\n",
      "Predicting...:   0%|                                                                                                                                  | 0/5 [00:00<?, ?it/s]/Users/borjasanchez/miniforge3/envs/MiniAM2/lib/python3.10/site-packages/torchvision/io/image.py:13: UserWarning: Failed to load image Python extension: 'dlopen(/Users/borjasanchez/miniforge3/envs/MiniAM2/lib/python3.10/site-packages/torchvision/image.so, 0x0006): Symbol not found: (__ZN3c106detail19maybe_wrap_dim_slowIxEET_S2_S2_b)\n",
      "  Referenced from: '/Users/borjasanchez/miniforge3/envs/MiniAM2/lib/python3.10/site-packages/torchvision/image.so'\n",
      "  Expected in: '/Users/borjasanchez/miniforge3/envs/MiniAM2/lib/python3.10/site-packages/torch/lib/libc10.dylib''If you don't plan on using image functionality from `torchvision.io`, you can ignore this warning. Otherwise, there might be something wrong with your environment. Did you have `libjpeg` or `libpng` installed before building `torchvision` from source?\n",
      "  warn(\n",
      "/Users/borjasanchez/miniforge3/envs/MiniAM2/lib/python3.10/site-packages/torchvision/io/image.py:13: UserWarning: Failed to load image Python extension: 'dlopen(/Users/borjasanchez/miniforge3/envs/MiniAM2/lib/python3.10/site-packages/torchvision/image.so, 0x0006): Symbol not found: (__ZN3c106detail19maybe_wrap_dim_slowIxEET_S2_S2_b)\n",
      "  Referenced from: '/Users/borjasanchez/miniforge3/envs/MiniAM2/lib/python3.10/site-packages/torchvision/image.so'\n",
      "  Expected in: '/Users/borjasanchez/miniforge3/envs/MiniAM2/lib/python3.10/site-packages/torch/lib/libc10.dylib''If you don't plan on using image functionality from `torchvision.io`, you can ignore this warning. Otherwise, there might be something wrong with your environment. Did you have `libjpeg` or `libpng` installed before building `torchvision` from source?\n",
      "  warn(\n",
      "/Users/borjasanchez/miniforge3/envs/MiniAM2/lib/python3.10/site-packages/torchvision/io/image.py:13: UserWarning: Failed to load image Python extension: 'dlopen(/Users/borjasanchez/miniforge3/envs/MiniAM2/lib/python3.10/site-packages/torchvision/image.so, 0x0006): Symbol not found: (__ZN3c106detail19maybe_wrap_dim_slowIxEET_S2_S2_b)\n",
      "  Referenced from: '/Users/borjasanchez/miniforge3/envs/MiniAM2/lib/python3.10/site-packages/torchvision/image.so'\n",
      "  Expected in: '/Users/borjasanchez/miniforge3/envs/MiniAM2/lib/python3.10/site-packages/torch/lib/libc10.dylib''If you don't plan on using image functionality from `torchvision.io`, you can ignore this warning. Otherwise, there might be something wrong with your environment. Did you have `libjpeg` or `libpng` installed before building `torchvision` from source?\n",
      "  warn(\n",
      "/Users/borjasanchez/miniforge3/envs/MiniAM2/lib/python3.10/site-packages/torchvision/io/image.py:13: UserWarning: Failed to load image Python extension: 'dlopen(/Users/borjasanchez/miniforge3/envs/MiniAM2/lib/python3.10/site-packages/torchvision/image.so, 0x0006): Symbol not found: (__ZN3c106detail19maybe_wrap_dim_slowIxEET_S2_S2_b)\n",
      "  Referenced from: '/Users/borjasanchez/miniforge3/envs/MiniAM2/lib/python3.10/site-packages/torchvision/image.so'\n",
      "  Expected in: '/Users/borjasanchez/miniforge3/envs/MiniAM2/lib/python3.10/site-packages/torch/lib/libc10.dylib''If you don't plan on using image functionality from `torchvision.io`, you can ignore this warning. Otherwise, there might be something wrong with your environment. Did you have `libjpeg` or `libpng` installed before building `torchvision` from source?\n",
      "  warn(\n",
      "Predicting...: 100%|██████████████████████████████████████████████████████████████████████████████████████████████████████████████████████████| 5/5 [00:30<00:00,  6.08s/it]\n"
     ]
    },
    {
     "data": {
      "text/plain": [
       "array([[0.4559    , 0.50552331, 0.03857669],\n",
       "       [0.0035    , 0.1289471 , 0.8675529 ],\n",
       "       [0.241     , 0.6835554 , 0.0754446 ],\n",
       "       ...,\n",
       "       [0.03      , 0.072944  , 0.897056  ],\n",
       "       [0.2441    , 0.6893808 , 0.0665192 ],\n",
       "       [0.8416    , 0.1261656 , 0.0322344 ]])"
      ]
     },
     "execution_count": 4,
     "metadata": {},
     "output_type": "execute_result"
    }
   ],
   "source": [
    "m3.predict(data)"
   ]
  },
  {
   "cell_type": "code",
   "execution_count": 5,
   "id": "e2de003c",
   "metadata": {},
   "outputs": [
    {
     "name": "stderr",
     "output_type": "stream",
     "text": [
      "INFO:root:M3 predicting...\n",
      "INFO:m3inference.dataset:2463 data entries loaded.\n",
      "Predicting...:   0%|                                                                                                                                  | 0/5 [00:00<?, ?it/s]/Users/borjasanchez/miniforge3/envs/MiniAM2/lib/python3.10/site-packages/torchvision/io/image.py:13: UserWarning: Failed to load image Python extension: 'dlopen(/Users/borjasanchez/miniforge3/envs/MiniAM2/lib/python3.10/site-packages/torchvision/image.so, 0x0006): Symbol not found: (__ZN3c106detail19maybe_wrap_dim_slowIxEET_S2_S2_b)\n",
      "  Referenced from: '/Users/borjasanchez/miniforge3/envs/MiniAM2/lib/python3.10/site-packages/torchvision/image.so'\n",
      "  Expected in: '/Users/borjasanchez/miniforge3/envs/MiniAM2/lib/python3.10/site-packages/torch/lib/libc10.dylib''If you don't plan on using image functionality from `torchvision.io`, you can ignore this warning. Otherwise, there might be something wrong with your environment. Did you have `libjpeg` or `libpng` installed before building `torchvision` from source?\n",
      "  warn(\n",
      "/Users/borjasanchez/miniforge3/envs/MiniAM2/lib/python3.10/site-packages/torchvision/io/image.py:13: UserWarning: Failed to load image Python extension: 'dlopen(/Users/borjasanchez/miniforge3/envs/MiniAM2/lib/python3.10/site-packages/torchvision/image.so, 0x0006): Symbol not found: (__ZN3c106detail19maybe_wrap_dim_slowIxEET_S2_S2_b)\n",
      "  Referenced from: '/Users/borjasanchez/miniforge3/envs/MiniAM2/lib/python3.10/site-packages/torchvision/image.so'\n",
      "  Expected in: '/Users/borjasanchez/miniforge3/envs/MiniAM2/lib/python3.10/site-packages/torch/lib/libc10.dylib''If you don't plan on using image functionality from `torchvision.io`, you can ignore this warning. Otherwise, there might be something wrong with your environment. Did you have `libjpeg` or `libpng` installed before building `torchvision` from source?\n",
      "  warn(\n",
      "/Users/borjasanchez/miniforge3/envs/MiniAM2/lib/python3.10/site-packages/torchvision/io/image.py:13: UserWarning: Failed to load image Python extension: 'dlopen(/Users/borjasanchez/miniforge3/envs/MiniAM2/lib/python3.10/site-packages/torchvision/image.so, 0x0006): Symbol not found: (__ZN3c106detail19maybe_wrap_dim_slowIxEET_S2_S2_b)\n",
      "  Referenced from: '/Users/borjasanchez/miniforge3/envs/MiniAM2/lib/python3.10/site-packages/torchvision/image.so'\n",
      "  Expected in: '/Users/borjasanchez/miniforge3/envs/MiniAM2/lib/python3.10/site-packages/torch/lib/libc10.dylib''If you don't plan on using image functionality from `torchvision.io`, you can ignore this warning. Otherwise, there might be something wrong with your environment. Did you have `libjpeg` or `libpng` installed before building `torchvision` from source?\n",
      "  warn(\n",
      "/Users/borjasanchez/miniforge3/envs/MiniAM2/lib/python3.10/site-packages/torchvision/io/image.py:13: UserWarning: Failed to load image Python extension: 'dlopen(/Users/borjasanchez/miniforge3/envs/MiniAM2/lib/python3.10/site-packages/torchvision/image.so, 0x0006): Symbol not found: (__ZN3c106detail19maybe_wrap_dim_slowIxEET_S2_S2_b)\n",
      "  Referenced from: '/Users/borjasanchez/miniforge3/envs/MiniAM2/lib/python3.10/site-packages/torchvision/image.so'\n",
      "  Expected in: '/Users/borjasanchez/miniforge3/envs/MiniAM2/lib/python3.10/site-packages/torch/lib/libc10.dylib''If you don't plan on using image functionality from `torchvision.io`, you can ignore this warning. Otherwise, there might be something wrong with your environment. Did you have `libjpeg` or `libpng` installed before building `torchvision` from source?\n",
      "  warn(\n",
      "Predicting...: 100%|██████████████████████████████████████████████████████████████████████████████████████████████████████████████████████████| 5/5 [00:28<00:00,  5.66s/it]\n"
     ]
    }
   ],
   "source": [
    "a = m3.compute_metrics({\"myTestSet\": data}, label=\"label\")"
   ]
  },
  {
   "cell_type": "code",
   "execution_count": 7,
   "id": "3a24d099",
   "metadata": {},
   "outputs": [
    {
     "data": {
      "text/plain": [
       "{'General info': {'Model': 'M2',\n",
       "  'Parameters': 8083936,\n",
       "  'MB': 30.8377685546875,\n",
       "  'users/s': (86.81591808106643,),\n",
       "  's/user': 0.011518624949242906},\n",
       " 'ovmvw': {'myTestSet': {'Coverage': 100.0,\n",
       "   'Accuracy': 80.9175801867641,\n",
       "   'F1': 76.81448163901038,\n",
       "   'Recall': 84.54630212363926,\n",
       "   'Precision': 73.7524979177544,\n",
       "   'Loss': 0.4930390520153234,\n",
       "   'Loss TF': 0.49303905201532333}},\n",
       " 'hvo': {'myTestSet': {'Coverage': 100.0,\n",
       "   'Accuracy': 93.82866423061307,\n",
       "   'F1': 82.25914679222537,\n",
       "   'Recall': 93.47502334856247,\n",
       "   'Precision': 76.46666523245057,\n",
       "   'Loss': 0.17966913070130727,\n",
       "   'Loss TF': 0.17966913090431175}},\n",
       " 'mvw': {'myTestSet': {'Coverage': 100.0,\n",
       "   'Accuracy': 85.93886462882097,\n",
       "   'F1': 85.82189478768414,\n",
       "   'Recall': 85.71360713549676,\n",
       "   'Precision': 86.03518395548551,\n",
       "   'Loss': 0.3370437188630662,\n",
       "   'Loss TF': 0.3370437191687431}}}"
      ]
     },
     "execution_count": 7,
     "metadata": {},
     "output_type": "execute_result"
    }
   ],
   "source": [
    "a"
   ]
  },
  {
   "cell_type": "code",
   "execution_count": null,
   "id": "62d3eb68",
   "metadata": {},
   "outputs": [],
   "source": []
  }
 ],
 "metadata": {
  "kernelspec": {
   "display_name": "Python 3 (ipykernel)",
   "language": "python",
   "name": "python3"
  },
  "language_info": {
   "codemirror_mode": {
    "name": "ipython",
    "version": 3
   },
   "file_extension": ".py",
   "mimetype": "text/x-python",
   "name": "python",
   "nbconvert_exporter": "python",
   "pygments_lexer": "ipython3",
   "version": "3.10.9"
  }
 },
 "nbformat": 4,
 "nbformat_minor": 5
}
