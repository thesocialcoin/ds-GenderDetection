{
 "cells": [
  {
   "cell_type": "markdown",
   "id": "ff62de32",
   "metadata": {},
   "source": [
    "# Evaluate trained model on a test set"
   ]
  },
  {
   "cell_type": "markdown",
   "id": "ab0386ae",
   "metadata": {},
   "source": [
    "### Load model with version"
   ]
  },
  {
   "cell_type": "code",
   "execution_count": 1,
   "id": "a22bd083",
   "metadata": {},
   "outputs": [
    {
     "name": "stderr",
     "output_type": "stream",
     "text": [
      "INFO:root:Do not standardize\n",
      "INFO:root:Do not standardize\n",
      "INFO:root:Do not standardize\n",
      "2023-05-07 22:26:13.135688: W tensorflow/tsl/platform/profile_utils/cpu_utils.cc:128] Failed to get CPU frequency: 0 Hz\n",
      "INFO:root:Trained model found with specified filename: models/miniam2/version/0.0.0\n"
     ]
    },
    {
     "data": {
      "text/plain": [
       "True"
      ]
     },
     "execution_count": 1,
     "metadata": {},
     "output_type": "execute_result"
    }
   ],
   "source": [
    "from src.models.miniam2 import MiniAM2Classifier\n",
    "\n",
    "\n",
    "ver = '0.0.0'\n",
    "miniam2 = MiniAM2Classifier()\n",
    "miniam2.load_model_from_path('models', version=ver)"
   ]
  },
  {
   "cell_type": "markdown",
   "id": "2c444ac6",
   "metadata": {},
   "source": [
    "### Load test sets"
   ]
  },
  {
   "cell_type": "code",
   "execution_count": 2,
   "id": "6356da07",
   "metadata": {},
   "outputs": [],
   "source": [
    "from src.utils import get_data\n",
    "import numpy as np\n",
    "\n",
    "\n",
    "test_sets = {\n",
    "    \"es\": get_data('data/test_data/20220915_test_set_Spanish.csv'),\n",
    "    \"en\": get_data('data/test_data/20220915_test_set_English.csv'),\n",
    "    \"fr\": get_data('data/test_data/20220915_test_set_French.csv')}\n",
    "\n"
   ]
  },
  {
   "cell_type": "markdown",
   "id": "eb5ec70f",
   "metadata": {},
   "source": [
    "### Compute metrics by calling 'compute_metrics' method and send a dictionary containing all test sets you want to test with. There are 3 different problem we can get the metrics of\n",
    "1. Organization vs Man vs Woman metrics: Q='ovmvw'\n",
    "2. Human vs Organization metrics: Q='hvo'\n",
    "3. Man vs Woman: Q='mvw'\n",
    "\n",
    "Specify the label where true labels are stored"
   ]
  },
  {
   "cell_type": "code",
   "execution_count": 3,
   "id": "5218e473",
   "metadata": {},
   "outputs": [
    {
     "name": "stdout",
     "output_type": "stream",
     "text": [
      "5/5 [==============================] - 0s 5ms/step\n",
      "5/5 [==============================] - 0s 6ms/step\n",
      "5/5 [==============================] - 0s 5ms/step\n"
     ]
    }
   ],
   "source": [
    "miniam2.compute_metrics(test_sets, label=\"label\")"
   ]
  },
  {
   "cell_type": "code",
   "execution_count": 11,
   "id": "8272c91d",
   "metadata": {},
   "outputs": [
    {
     "data": {
      "text/html": [
       "<div>\n",
       "<style scoped>\n",
       "    .dataframe tbody tr th:only-of-type {\n",
       "        vertical-align: middle;\n",
       "    }\n",
       "\n",
       "    .dataframe tbody tr th {\n",
       "        vertical-align: top;\n",
       "    }\n",
       "\n",
       "    .dataframe thead th {\n",
       "        text-align: right;\n",
       "    }\n",
       "</style>\n",
       "<table border=\"1\" class=\"dataframe\">\n",
       "  <thead>\n",
       "    <tr style=\"text-align: right;\">\n",
       "      <th></th>\n",
       "      <th>0</th>\n",
       "    </tr>\n",
       "  </thead>\n",
       "  <tbody>\n",
       "    <tr>\n",
       "      <th>Coverage</th>\n",
       "      <td>100.000000</td>\n",
       "    </tr>\n",
       "    <tr>\n",
       "      <th>Accuracy</th>\n",
       "      <td>88.162119</td>\n",
       "    </tr>\n",
       "    <tr>\n",
       "      <th>F1</th>\n",
       "      <td>85.861672</td>\n",
       "    </tr>\n",
       "    <tr>\n",
       "      <th>Recall</th>\n",
       "      <td>84.842289</td>\n",
       "    </tr>\n",
       "    <tr>\n",
       "      <th>Precision</th>\n",
       "      <td>87.049214</td>\n",
       "    </tr>\n",
       "    <tr>\n",
       "      <th>Loss</th>\n",
       "      <td>0.329007</td>\n",
       "    </tr>\n",
       "    <tr>\n",
       "      <th>Loss TF</th>\n",
       "      <td>0.329007</td>\n",
       "    </tr>\n",
       "  </tbody>\n",
       "</table>\n",
       "</div>"
      ],
      "text/plain": [
       "                    0\n",
       "Coverage   100.000000\n",
       "Accuracy    88.162119\n",
       "F1          85.861672\n",
       "Recall      84.842289\n",
       "Precision   87.049214\n",
       "Loss         0.329007\n",
       "Loss TF      0.329007"
      ]
     },
     "execution_count": 11,
     "metadata": {},
     "output_type": "execute_result"
    }
   ],
   "source": [
    "import pandas as pd\n",
    "met = pd.Series(miniam2.metrics['ovmvw']['es']).to_frame()\n",
    "\n",
    "met"
   ]
  },
  {
   "cell_type": "code",
   "execution_count": null,
   "id": "9f6ddb28",
   "metadata": {},
   "outputs": [],
   "source": []
  }
 ],
 "metadata": {
  "kernelspec": {
   "display_name": "Python 3 (ipykernel)",
   "language": "python",
   "name": "python3"
  },
  "language_info": {
   "codemirror_mode": {
    "name": "ipython",
    "version": 3
   },
   "file_extension": ".py",
   "mimetype": "text/x-python",
   "name": "python",
   "nbconvert_exporter": "python",
   "pygments_lexer": "ipython3",
   "version": "3.10.9"
  }
 },
 "nbformat": 4,
 "nbformat_minor": 5
}
