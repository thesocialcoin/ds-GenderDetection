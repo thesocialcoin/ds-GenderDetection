{
 "cells": [
  {
   "cell_type": "code",
   "execution_count": 1,
   "id": "b4fa8c73",
   "metadata": {},
   "outputs": [
    {
     "name": "stderr",
     "output_type": "stream",
     "text": [
      "/Users/borjasanchez/miniforge3/envs/MiniAM2/lib/python3.10/site-packages/torchvision/io/image.py:13: UserWarning: Failed to load image Python extension: 'dlopen(/Users/borjasanchez/miniforge3/envs/MiniAM2/lib/python3.10/site-packages/torchvision/image.so, 0x0006): Symbol not found: (__ZN3c106detail19maybe_wrap_dim_slowIxEET_S2_S2_b)\n",
      "  Referenced from: '/Users/borjasanchez/miniforge3/envs/MiniAM2/lib/python3.10/site-packages/torchvision/image.so'\n",
      "  Expected in: '/Users/borjasanchez/miniforge3/envs/MiniAM2/lib/python3.10/site-packages/torch/lib/libc10.dylib''If you don't plan on using image functionality from `torchvision.io`, you can ignore this warning. Otherwise, there might be something wrong with your environment. Did you have `libjpeg` or `libpng` installed before building `torchvision` from source?\n",
      "  warn(\n"
     ]
    }
   ],
   "source": [
    "from src.classifiers.soft_labelers.m3_soft_labeler import M2SoftLabeler"
   ]
  },
  {
   "cell_type": "code",
   "execution_count": 2,
   "id": "0cf656bd",
   "metadata": {},
   "outputs": [
    {
     "name": "stderr",
     "output_type": "stream",
     "text": [
      "INFO:m3inference.m3inference:Version 1.1.5\n",
      "INFO:m3inference.m3inference:Running on cpu.\n",
      "INFO:m3inference.m3inference:Will use text model. Note that as M3 was optimized to work well with both image and text data,                                     it is not recommended to use text only model unless you do not have the profile image.\n",
      "INFO:m3inference.m3inference:Model text_model exists at /Users/borjasanchez/m3/models/text_model.mdl.\n",
      "INFO:m3inference.utils:Checking MD5 for model text_model at /Users/borjasanchez/m3/models/text_model.mdl\n",
      "INFO:m3inference.utils:MD5s match.\n",
      "INFO:m3inference.m3inference:Loaded pretrained weight at /Users/borjasanchez/m3/models/text_model.mdl\n"
     ]
    }
   ],
   "source": [
    "m2 = M2SoftLabeler()"
   ]
  },
  {
   "cell_type": "code",
   "execution_count": 3,
   "id": "de97868d",
   "metadata": {},
   "outputs": [],
   "source": [
    "from src.utils import get_data\n",
    "\n",
    "data = get_data('data/test_data/20220915_test_set_English.csv')"
   ]
  },
  {
   "cell_type": "code",
   "execution_count": 4,
   "id": "095df347",
   "metadata": {},
   "outputs": [
    {
     "name": "stderr",
     "output_type": "stream",
     "text": [
      "INFO:root:M3 predicting...\n",
      "INFO:m3inference.dataset:2463 data entries loaded.\n",
      "Predicting...:   0%|                                                                                                                                  | 0/5 [00:00<?, ?it/s]/Users/borjasanchez/miniforge3/envs/MiniAM2/lib/python3.10/site-packages/torchvision/io/image.py:13: UserWarning: Failed to load image Python extension: 'dlopen(/Users/borjasanchez/miniforge3/envs/MiniAM2/lib/python3.10/site-packages/torchvision/image.so, 0x0006): Symbol not found: (__ZN3c106detail19maybe_wrap_dim_slowIxEET_S2_S2_b)\n",
      "  Referenced from: '/Users/borjasanchez/miniforge3/envs/MiniAM2/lib/python3.10/site-packages/torchvision/image.so'\n",
      "  Expected in: '/Users/borjasanchez/miniforge3/envs/MiniAM2/lib/python3.10/site-packages/torch/lib/libc10.dylib''If you don't plan on using image functionality from `torchvision.io`, you can ignore this warning. Otherwise, there might be something wrong with your environment. Did you have `libjpeg` or `libpng` installed before building `torchvision` from source?\n",
      "  warn(\n",
      "/Users/borjasanchez/miniforge3/envs/MiniAM2/lib/python3.10/site-packages/torchvision/io/image.py:13: UserWarning: Failed to load image Python extension: 'dlopen(/Users/borjasanchez/miniforge3/envs/MiniAM2/lib/python3.10/site-packages/torchvision/image.so, 0x0006): Symbol not found: (__ZN3c106detail19maybe_wrap_dim_slowIxEET_S2_S2_b)\n",
      "  Referenced from: '/Users/borjasanchez/miniforge3/envs/MiniAM2/lib/python3.10/site-packages/torchvision/image.so'\n",
      "  Expected in: '/Users/borjasanchez/miniforge3/envs/MiniAM2/lib/python3.10/site-packages/torch/lib/libc10.dylib''If you don't plan on using image functionality from `torchvision.io`, you can ignore this warning. Otherwise, there might be something wrong with your environment. Did you have `libjpeg` or `libpng` installed before building `torchvision` from source?\n",
      "  warn(\n",
      "/Users/borjasanchez/miniforge3/envs/MiniAM2/lib/python3.10/site-packages/torchvision/io/image.py:13: UserWarning: Failed to load image Python extension: 'dlopen(/Users/borjasanchez/miniforge3/envs/MiniAM2/lib/python3.10/site-packages/torchvision/image.so, 0x0006): Symbol not found: (__ZN3c106detail19maybe_wrap_dim_slowIxEET_S2_S2_b)\n",
      "  Referenced from: '/Users/borjasanchez/miniforge3/envs/MiniAM2/lib/python3.10/site-packages/torchvision/image.so'\n",
      "  Expected in: '/Users/borjasanchez/miniforge3/envs/MiniAM2/lib/python3.10/site-packages/torch/lib/libc10.dylib''If you don't plan on using image functionality from `torchvision.io`, you can ignore this warning. Otherwise, there might be something wrong with your environment. Did you have `libjpeg` or `libpng` installed before building `torchvision` from source?\n",
      "  warn(\n",
      "/Users/borjasanchez/miniforge3/envs/MiniAM2/lib/python3.10/site-packages/torchvision/io/image.py:13: UserWarning: Failed to load image Python extension: 'dlopen(/Users/borjasanchez/miniforge3/envs/MiniAM2/lib/python3.10/site-packages/torchvision/image.so, 0x0006): Symbol not found: (__ZN3c106detail19maybe_wrap_dim_slowIxEET_S2_S2_b)\n",
      "  Referenced from: '/Users/borjasanchez/miniforge3/envs/MiniAM2/lib/python3.10/site-packages/torchvision/image.so'\n",
      "  Expected in: '/Users/borjasanchez/miniforge3/envs/MiniAM2/lib/python3.10/site-packages/torch/lib/libc10.dylib''If you don't plan on using image functionality from `torchvision.io`, you can ignore this warning. Otherwise, there might be something wrong with your environment. Did you have `libjpeg` or `libpng` installed before building `torchvision` from source?\n",
      "  warn(\n",
      "Predicting...: 100%|██████████████████████████████████████████████████████████████████████████████████████████████████████████████████████████| 5/5 [00:30<00:00,  6.13s/it]\n"
     ]
    },
    {
     "data": {
      "text/plain": [
       "array([[0., 0., 0.],\n",
       "       [0., 0., 1.],\n",
       "       [0., 1., 0.],\n",
       "       ...,\n",
       "       [0., 0., 1.],\n",
       "       [0., 1., 0.],\n",
       "       [1., 0., 0.]])"
      ]
     },
     "execution_count": 4,
     "metadata": {},
     "output_type": "execute_result"
    }
   ],
   "source": [
    "m2.label(data, 512)"
   ]
  }
 ],
 "metadata": {
  "kernelspec": {
   "display_name": "Python 3 (ipykernel)",
   "language": "python",
   "name": "python3"
  },
  "language_info": {
   "codemirror_mode": {
    "name": "ipython",
    "version": 3
   },
   "file_extension": ".py",
   "mimetype": "text/x-python",
   "name": "python",
   "nbconvert_exporter": "python",
   "pygments_lexer": "ipython3",
   "version": "3.10.9"
  }
 },
 "nbformat": 4,
 "nbformat_minor": 5
}
