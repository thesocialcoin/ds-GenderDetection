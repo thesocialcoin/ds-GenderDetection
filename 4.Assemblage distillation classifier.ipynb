{
 "cells": [
  {
   "cell_type": "markdown",
   "id": "0b551a29",
   "metadata": {},
   "source": [
    "# Creating a training set with assemblage distillation technique (using labeling functions and M2 soft labelers)"
   ]
  },
  {
   "cell_type": "code",
   "execution_count": 1,
   "id": "b4fa8c73",
   "metadata": {},
   "outputs": [
    {
     "name": "stderr",
     "output_type": "stream",
     "text": [
      "/Users/borjasanchez/miniforge3/envs/MiniAM2/lib/python3.10/site-packages/torchvision/io/image.py:13: UserWarning: Failed to load image Python extension: 'dlopen(/Users/borjasanchez/miniforge3/envs/MiniAM2/lib/python3.10/site-packages/torchvision/image.so, 0x0006): Symbol not found: (__ZN3c106detail19maybe_wrap_dim_slowIxEET_S2_S2_b)\n",
      "  Referenced from: '/Users/borjasanchez/miniforge3/envs/MiniAM2/lib/python3.10/site-packages/torchvision/image.so'\n",
      "  Expected in: '/Users/borjasanchez/miniforge3/envs/MiniAM2/lib/python3.10/site-packages/torch/lib/libc10.dylib''If you don't plan on using image functionality from `torchvision.io`, you can ignore this warning. Otherwise, there might be something wrong with your environment. Did you have `libjpeg` or `libpng` installed before building `torchvision` from source?\n",
      "  warn(\n"
     ]
    }
   ],
   "source": [
    "from src.classifiers.assemblage_distillation import AssemblageDistillation\n",
    "from src.classifiers.soft_labelers.m3_soft_labeler import M2SoftLabeler\n",
    "from src.classifiers.soft_labelers.soft_labeling_functions import LabelingFunctionsModel\n",
    "from src.classifiers.lr import LR"
   ]
  },
  {
   "cell_type": "markdown",
   "id": "8043b830",
   "metadata": {},
   "source": [
    "### Create labeling functions and M2 soft labelers (per language)"
   ]
  },
  {
   "cell_type": "code",
   "execution_count": 3,
   "id": "0cf656bd",
   "metadata": {},
   "outputs": [
    {
     "name": "stderr",
     "output_type": "stream",
     "text": [
      "INFO:m3inference.m3inference:Version 1.1.5\n",
      "INFO:m3inference.m3inference:Running on cpu.\n",
      "INFO:m3inference.m3inference:Will use text model. Note that as M3 was optimized to work well with both image and text data,                                     it is not recommended to use text only model unless you do not have the profile image.\n",
      "INFO:m3inference.m3inference:Model text_model exists at /Users/borjasanchez/m3/models/text_model.mdl.\n",
      "INFO:m3inference.utils:Checking MD5 for model text_model at /Users/borjasanchez/m3/models/text_model.mdl\n",
      "INFO:m3inference.utils:MD5s match.\n",
      "INFO:m3inference.m3inference:Loaded pretrained weight at /Users/borjasanchez/m3/models/text_model.mdl\n",
      "INFO:root:Creating labeling function model for language: es\n",
      "INFO:root:Computing es dictionary of names\n",
      "INFO:root:Creating labeling function model for language: en\n",
      "INFO:root:Computing en dictionary of names\n",
      "INFO:root:Creating labeling function model for language: fr\n",
      "INFO:root:Computing fr dictionary of names\n",
      "INFO:root:Trained model found with specified filename: models/LogisticRegressiones/version/0.0.0\n",
      "INFO:root:Trained model found with specified filename: models/LogisticRegressionen/version/0.0.0\n",
      "INFO:root:Trained model found with specified filename: models/LogisticRegressionfr/version/0.0.0\n"
     ]
    }
   ],
   "source": [
    "langs = [\"es\", \"en\", \"fr\"]\n",
    "m3_sl = M2SoftLabeler()\n",
    "lf_sl = {lang: LabelingFunctionsModel(lang) for lang in langs}\n",
    "logReg = {lang: LR(15, 3, lang) for lang in langs}\n",
    "for lang, lr in logReg.items():\n",
    "    lr.load_model_from_path('models', version='0.0.0')"
   ]
  },
  {
   "cell_type": "markdown",
   "id": "146944bb",
   "metadata": {},
   "source": [
    "### Create the Assemblage distillation classifier (per language)"
   ]
  },
  {
   "cell_type": "code",
   "execution_count": 4,
   "id": "095df347",
   "metadata": {},
   "outputs": [],
   "source": [
    "ads = {lang: AssemblageDistillation([m3_sl, lf_sl[lang]], logReg[lang]) for lang in langs}"
   ]
  },
  {
   "cell_type": "markdown",
   "id": "2ef356aa",
   "metadata": {},
   "source": [
    "### Load unlabaled data"
   ]
  },
  {
   "cell_type": "code",
   "execution_count": 5,
   "id": "de97868d",
   "metadata": {},
   "outputs": [
    {
     "name": "stderr",
     "output_type": "stream",
     "text": [
      "/Users/borjasanchez/Documents/prj/ds-GenderDetection/src/utils.py:24: DtypeWarning: Columns (6,9,11) have mixed types. Specify dtype option on import or set low_memory=False.\n",
      "  df = pd.read_csv(path, lineterminator='\\n', header=0, na_values=[np.nan, \"None \", \"None\"],\n",
      "/Users/borjasanchez/Documents/prj/ds-GenderDetection/src/utils.py:24: DtypeWarning: Columns (5) have mixed types. Specify dtype option on import or set low_memory=False.\n",
      "  df = pd.read_csv(path, lineterminator='\\n', header=0, na_values=[np.nan, \"None \", \"None\"],\n",
      "/Users/borjasanchez/Documents/prj/ds-GenderDetection/src/utils.py:24: DtypeWarning: Columns (5) have mixed types. Specify dtype option on import or set low_memory=False.\n",
      "  df = pd.read_csv(path, lineterminator='\\n', header=0, na_values=[np.nan, \"None \", \"None\"],\n"
     ]
    }
   ],
   "source": [
    "from src.utils import get_data\n",
    "data_paths = {'es': 'data/raw/spanish.zip',\n",
    "             'en': 'data/raw/english.zip',\n",
    "             'fr': 'data/raw/french.zip'}\n",
    "data = {}\n",
    "for lang, path in data_paths.items():\n",
    "    data[lang] = get_data(path)\n",
    "    data[lang]['lang']= lang"
   ]
  },
  {
   "cell_type": "markdown",
   "id": "94fd2da9",
   "metadata": {},
   "source": [
    "### Call the predict method of the classifier to get the soft labels"
   ]
  },
  {
   "cell_type": "code",
   "execution_count": 6,
   "id": "d2f92727",
   "metadata": {},
   "outputs": [
    {
     "name": "stderr",
     "output_type": "stream",
     "text": [
      "INFO:root:M3 predicting...\n",
      "INFO:m3inference.dataset:3608997 data entries loaded.\n",
      "Predicting...:   0%|                                                                                                                               | 0/7049 [00:00<?, ?it/s]/Users/borjasanchez/miniforge3/envs/MiniAM2/lib/python3.10/site-packages/torchvision/io/image.py:13: UserWarning: Failed to load image Python extension: 'dlopen(/Users/borjasanchez/miniforge3/envs/MiniAM2/lib/python3.10/site-packages/torchvision/image.so, 0x0006): Symbol not found: (__ZN3c106detail19maybe_wrap_dim_slowIxEET_S2_S2_b)\n",
      "  Referenced from: '/Users/borjasanchez/miniforge3/envs/MiniAM2/lib/python3.10/site-packages/torchvision/image.so'\n",
      "  Expected in: '/Users/borjasanchez/miniforge3/envs/MiniAM2/lib/python3.10/site-packages/torch/lib/libc10.dylib''If you don't plan on using image functionality from `torchvision.io`, you can ignore this warning. Otherwise, there might be something wrong with your environment. Did you have `libjpeg` or `libpng` installed before building `torchvision` from source?\n",
      "  warn(\n",
      "/Users/borjasanchez/miniforge3/envs/MiniAM2/lib/python3.10/site-packages/torchvision/io/image.py:13: UserWarning: Failed to load image Python extension: 'dlopen(/Users/borjasanchez/miniforge3/envs/MiniAM2/lib/python3.10/site-packages/torchvision/image.so, 0x0006): Symbol not found: (__ZN3c106detail19maybe_wrap_dim_slowIxEET_S2_S2_b)\n",
      "  Referenced from: '/Users/borjasanchez/miniforge3/envs/MiniAM2/lib/python3.10/site-packages/torchvision/image.so'\n",
      "  Expected in: '/Users/borjasanchez/miniforge3/envs/MiniAM2/lib/python3.10/site-packages/torch/lib/libc10.dylib''If you don't plan on using image functionality from `torchvision.io`, you can ignore this warning. Otherwise, there might be something wrong with your environment. Did you have `libjpeg` or `libpng` installed before building `torchvision` from source?\n",
      "  warn(\n",
      "/Users/borjasanchez/miniforge3/envs/MiniAM2/lib/python3.10/site-packages/torchvision/io/image.py:13: UserWarning: Failed to load image Python extension: 'dlopen(/Users/borjasanchez/miniforge3/envs/MiniAM2/lib/python3.10/site-packages/torchvision/image.so, 0x0006): Symbol not found: (__ZN3c106detail19maybe_wrap_dim_slowIxEET_S2_S2_b)\n",
      "  Referenced from: '/Users/borjasanchez/miniforge3/envs/MiniAM2/lib/python3.10/site-packages/torchvision/image.so'\n",
      "  Expected in: '/Users/borjasanchez/miniforge3/envs/MiniAM2/lib/python3.10/site-packages/torch/lib/libc10.dylib''If you don't plan on using image functionality from `torchvision.io`, you can ignore this warning. Otherwise, there might be something wrong with your environment. Did you have `libjpeg` or `libpng` installed before building `torchvision` from source?\n",
      "  warn(\n",
      "/Users/borjasanchez/miniforge3/envs/MiniAM2/lib/python3.10/site-packages/torchvision/io/image.py:13: UserWarning: Failed to load image Python extension: 'dlopen(/Users/borjasanchez/miniforge3/envs/MiniAM2/lib/python3.10/site-packages/torchvision/image.so, 0x0006): Symbol not found: (__ZN3c106detail19maybe_wrap_dim_slowIxEET_S2_S2_b)\n",
      "  Referenced from: '/Users/borjasanchez/miniforge3/envs/MiniAM2/lib/python3.10/site-packages/torchvision/image.so'\n",
      "  Expected in: '/Users/borjasanchez/miniforge3/envs/MiniAM2/lib/python3.10/site-packages/torch/lib/libc10.dylib''If you don't plan on using image functionality from `torchvision.io`, you can ignore this warning. Otherwise, there might be something wrong with your environment. Did you have `libjpeg` or `libpng` installed before building `torchvision` from source?\n",
      "  warn(\n",
      "Predicting...: 100%|██████████████████████████████████████████████████████████████████████████████████████████████████████████████████| 7049/7049 [2:36:23<00:00,  1.33s/it]\n",
      "INFO:root:Preprocessing\n",
      "INFO:root:Running labelling functions\n",
      "  0%|                                                                                                                                                | 0/12 [00:00<?, ?it/s]INFO:root:Applying labeling function to dataset...\n",
      "INFO:root:Abstains: 3547524     Labels: 61473\n",
      "  8%|███████████▎                                                                                                                            | 1/12 [01:35<17:33, 95.75s/it]INFO:root:Applying labeling function to dataset...\n",
      "INFO:root:Abstains: 3547496     Labels: 61501\n",
      " 17%|██████████████████████▌                                                                                                                | 2/12 [03:34<18:13, 109.39s/it]INFO:root:Applying labeling function to dataset...\n",
      "INFO:root:Abstains: 3599712     Labels: 9285\n",
      " 25%|██████████████████████████████████                                                                                                      | 3/12 [03:58<10:31, 70.20s/it]INFO:root:Applying labeling function to dataset...\n",
      "INFO:root:Abstains: 3592230     Labels: 16767\n",
      " 33%|█████████████████████████████████████████████▎                                                                                          | 4/12 [04:49<08:21, 62.69s/it]INFO:root:Applying labeling function to dataset...\n",
      "INFO:root:Abstains: 3584285     Labels: 24712\n",
      " 42%|████████████████████████████████████████████████████████▋                                                                               | 5/12 [05:01<05:11, 44.54s/it]INFO:root:Applying labeling function to dataset...\n",
      "INFO:root:Abstains: 3382092     Labels: 226905\n",
      " 50%|████████████████████████████████████████████████████████████████████                                                                    | 6/12 [06:01<04:58, 49.74s/it]INFO:root:Applying labeling function to dataset...\n",
      "INFO:root:Abstains: 3574721     Labels: 34276\n",
      " 58%|███████████████████████████████████████████████████████████████████████████████▎                                                        | 7/12 [06:07<02:57, 35.47s/it]INFO:root:Applying labeling function to dataset...\n",
      "INFO:root:Abstains: 3560839     Labels: 48158\n",
      " 67%|██████████████████████████████████████████████████████████████████████████████████████████▋                                             | 8/12 [06:23<01:56, 29.09s/it]INFO:root:Applying labeling function to dataset...\n",
      "INFO:root:Abstains: 2579050     Labels: 1029947\n",
      " 75%|██████████████████████████████████████████████████████████████████████████████████████████████████████                                  | 9/12 [07:05<01:39, 33.25s/it]INFO:root:Applying labeling function to dataset...\n",
      "INFO:root:Abstains: 2826527     Labels: 782470\n",
      " 83%|████████████████████████████████████████████████████████████████████████████████████████████████████████████████▌                      | 10/12 [07:48<01:12, 36.10s/it]INFO:root:Applying labeling function to dataset...\n",
      "INFO:root:Abstains: 2700640     Labels: 908357\n",
      " 92%|███████████████████████████████████████████████████████████████████████████████████████████████████████████████████████████▊           | 11/12 [08:32<00:38, 38.77s/it]INFO:root:Applying labeling function to dataset...\n",
      "INFO:root:Abstains: 2821405     Labels: 787592\n",
      "100%|███████████████████████████████████████████████████████████████████████████████████████████████████████████████████████████████████████| 12/12 [09:17<00:00, 46.45s/it]\n"
     ]
    },
    {
     "name": "stdout",
     "output_type": "stream",
     "text": [
      " 254/7049 [>.............................] - ETA: 2s "
     ]
    },
    {
     "name": "stderr",
     "output_type": "stream",
     "text": [
      "2023-05-23 23:56:49.385494: W tensorflow/tsl/platform/profile_utils/cpu_utils.cc:128] Failed to get CPU frequency: 0 Hz\n"
     ]
    },
    {
     "name": "stdout",
     "output_type": "stream",
     "text": [
      "7049/7049 [==============================] - 3s 368us/step\n"
     ]
    },
    {
     "name": "stderr",
     "output_type": "stream",
     "text": [
      "INFO:root:M3 predicting...\n",
      "INFO:m3inference.dataset:3316545 data entries loaded.\n",
      "Predicting...:   0%|                                                                                                                               | 0/6478 [00:00<?, ?it/s]/Users/borjasanchez/miniforge3/envs/MiniAM2/lib/python3.10/site-packages/torchvision/io/image.py:13: UserWarning: Failed to load image Python extension: 'dlopen(/Users/borjasanchez/miniforge3/envs/MiniAM2/lib/python3.10/site-packages/torchvision/image.so, 0x0006): Symbol not found: (__ZN3c106detail19maybe_wrap_dim_slowIxEET_S2_S2_b)\n",
      "  Referenced from: '/Users/borjasanchez/miniforge3/envs/MiniAM2/lib/python3.10/site-packages/torchvision/image.so'\n",
      "  Expected in: '/Users/borjasanchez/miniforge3/envs/MiniAM2/lib/python3.10/site-packages/torch/lib/libc10.dylib''If you don't plan on using image functionality from `torchvision.io`, you can ignore this warning. Otherwise, there might be something wrong with your environment. Did you have `libjpeg` or `libpng` installed before building `torchvision` from source?\n",
      "  warn(\n",
      "/Users/borjasanchez/miniforge3/envs/MiniAM2/lib/python3.10/site-packages/torchvision/io/image.py:13: UserWarning: Failed to load image Python extension: 'dlopen(/Users/borjasanchez/miniforge3/envs/MiniAM2/lib/python3.10/site-packages/torchvision/image.so, 0x0006): Symbol not found: (__ZN3c106detail19maybe_wrap_dim_slowIxEET_S2_S2_b)\n",
      "  Referenced from: '/Users/borjasanchez/miniforge3/envs/MiniAM2/lib/python3.10/site-packages/torchvision/image.so'\n",
      "  Expected in: '/Users/borjasanchez/miniforge3/envs/MiniAM2/lib/python3.10/site-packages/torch/lib/libc10.dylib''If you don't plan on using image functionality from `torchvision.io`, you can ignore this warning. Otherwise, there might be something wrong with your environment. Did you have `libjpeg` or `libpng` installed before building `torchvision` from source?\n",
      "  warn(\n",
      "/Users/borjasanchez/miniforge3/envs/MiniAM2/lib/python3.10/site-packages/torchvision/io/image.py:13: UserWarning: Failed to load image Python extension: 'dlopen(/Users/borjasanchez/miniforge3/envs/MiniAM2/lib/python3.10/site-packages/torchvision/image.so, 0x0006): Symbol not found: (__ZN3c106detail19maybe_wrap_dim_slowIxEET_S2_S2_b)\n",
      "  Referenced from: '/Users/borjasanchez/miniforge3/envs/MiniAM2/lib/python3.10/site-packages/torchvision/image.so'\n",
      "  Expected in: '/Users/borjasanchez/miniforge3/envs/MiniAM2/lib/python3.10/site-packages/torch/lib/libc10.dylib''If you don't plan on using image functionality from `torchvision.io`, you can ignore this warning. Otherwise, there might be something wrong with your environment. Did you have `libjpeg` or `libpng` installed before building `torchvision` from source?\n",
      "  warn(\n",
      "/Users/borjasanchez/miniforge3/envs/MiniAM2/lib/python3.10/site-packages/torchvision/io/image.py:13: UserWarning: Failed to load image Python extension: 'dlopen(/Users/borjasanchez/miniforge3/envs/MiniAM2/lib/python3.10/site-packages/torchvision/image.so, 0x0006): Symbol not found: (__ZN3c106detail19maybe_wrap_dim_slowIxEET_S2_S2_b)\n",
      "  Referenced from: '/Users/borjasanchez/miniforge3/envs/MiniAM2/lib/python3.10/site-packages/torchvision/image.so'\n",
      "  Expected in: '/Users/borjasanchez/miniforge3/envs/MiniAM2/lib/python3.10/site-packages/torch/lib/libc10.dylib''If you don't plan on using image functionality from `torchvision.io`, you can ignore this warning. Otherwise, there might be something wrong with your environment. Did you have `libjpeg` or `libpng` installed before building `torchvision` from source?\n",
      "  warn(\n",
      "Predicting...: 100%|██████████████████████████████████████████████████████████████████████████████████████████████████████████████████| 6478/6478 [3:08:40<00:00,  1.75s/it]\n",
      "INFO:root:Preprocessing\n",
      "INFO:root:Running labelling functions\n",
      "  0%|                                                                                                                                                | 0/12 [00:00<?, ?it/s]INFO:root:Applying labeling function to dataset...\n",
      "INFO:root:Abstains: 3224974     Labels: 91571\n",
      "  8%|███████████▎                                                                                                                            | 1/12 [01:31<16:41, 91.06s/it]INFO:root:Applying labeling function to dataset...\n",
      "INFO:root:Abstains: 3225896     Labels: 90649\n",
      " 17%|██████████████████████▌                                                                                                                | 2/12 [03:19<16:54, 101.41s/it]INFO:root:Applying labeling function to dataset...\n",
      "INFO:root:Abstains: 3296121     Labels: 20424\n",
      " 25%|██████████████████████████████████                                                                                                      | 3/12 [03:45<10:03, 67.08s/it]INFO:root:Applying labeling function to dataset...\n",
      "INFO:root:Abstains: 3297402     Labels: 19143\n",
      " 33%|█████████████████████████████████████████████▎                                                                                          | 4/12 [04:31<07:48, 58.52s/it]INFO:root:Applying labeling function to dataset...\n",
      "INFO:root:Abstains: 3275476     Labels: 41069\n",
      " 42%|████████████████████████████████████████████████████████▋                                                                               | 5/12 [04:43<04:53, 41.90s/it]INFO:root:Applying labeling function to dataset...\n",
      "INFO:root:Abstains: 2914303     Labels: 402242\n",
      " 50%|████████████████████████████████████████████████████████████████████                                                                    | 6/12 [05:54<05:10, 51.80s/it]INFO:root:Applying labeling function to dataset...\n",
      "INFO:root:Abstains: 3263259     Labels: 53286\n",
      " 58%|███████████████████████████████████████████████████████████████████████████████▎                                                        | 7/12 [06:00<03:04, 36.84s/it]INFO:root:Applying labeling function to dataset...\n",
      "INFO:root:Abstains: 3231165     Labels: 85380\n",
      " 67%|██████████████████████████████████████████████████████████████████████████████████████████▋                                             | 8/12 [06:15<01:59, 29.85s/it]INFO:root:Applying labeling function to dataset...\n",
      "INFO:root:Abstains: 2492835     Labels: 823710\n",
      " 75%|██████████████████████████████████████████████████████████████████████████████████████████████████████                                  | 9/12 [07:07<01:50, 36.67s/it]INFO:root:Applying labeling function to dataset...\n",
      "INFO:root:Abstains: 2643380     Labels: 673165\n",
      " 83%|████████████████████████████████████████████████████████████████████████████████████████████████████████████████▌                      | 10/12 [07:58<01:22, 41.21s/it]INFO:root:Applying labeling function to dataset...\n",
      "INFO:root:Abstains: 2583592     Labels: 732953\n",
      " 92%|███████████████████████████████████████████████████████████████████████████████████████████████████████████████████████████▊           | 11/12 [08:43<00:42, 42.44s/it]INFO:root:Applying labeling function to dataset...\n",
      "INFO:root:Abstains: 2695456     Labels: 621089\n",
      "100%|███████████████████████████████████████████████████████████████████████████████████████████████████████████████████████████████████████| 12/12 [09:29<00:00, 47.43s/it]\n"
     ]
    },
    {
     "name": "stdout",
     "output_type": "stream",
     "text": [
      "6478/6478 [==============================] - 2s 364us/step\n"
     ]
    },
    {
     "name": "stderr",
     "output_type": "stream",
     "text": [
      "INFO:root:M3 predicting...\n",
      "INFO:m3inference.dataset:1086762 data entries loaded.\n",
      "Predicting...:   0%|                                                                                                                               | 0/2123 [00:00<?, ?it/s]/Users/borjasanchez/miniforge3/envs/MiniAM2/lib/python3.10/site-packages/torchvision/io/image.py:13: UserWarning: Failed to load image Python extension: 'dlopen(/Users/borjasanchez/miniforge3/envs/MiniAM2/lib/python3.10/site-packages/torchvision/image.so, 0x0006): Symbol not found: (__ZN3c106detail19maybe_wrap_dim_slowIxEET_S2_S2_b)\n",
      "  Referenced from: '/Users/borjasanchez/miniforge3/envs/MiniAM2/lib/python3.10/site-packages/torchvision/image.so'\n",
      "  Expected in: '/Users/borjasanchez/miniforge3/envs/MiniAM2/lib/python3.10/site-packages/torch/lib/libc10.dylib''If you don't plan on using image functionality from `torchvision.io`, you can ignore this warning. Otherwise, there might be something wrong with your environment. Did you have `libjpeg` or `libpng` installed before building `torchvision` from source?\n",
      "  warn(\n",
      "/Users/borjasanchez/miniforge3/envs/MiniAM2/lib/python3.10/site-packages/torchvision/io/image.py:13: UserWarning: Failed to load image Python extension: 'dlopen(/Users/borjasanchez/miniforge3/envs/MiniAM2/lib/python3.10/site-packages/torchvision/image.so, 0x0006): Symbol not found: (__ZN3c106detail19maybe_wrap_dim_slowIxEET_S2_S2_b)\n",
      "  Referenced from: '/Users/borjasanchez/miniforge3/envs/MiniAM2/lib/python3.10/site-packages/torchvision/image.so'\n",
      "  Expected in: '/Users/borjasanchez/miniforge3/envs/MiniAM2/lib/python3.10/site-packages/torch/lib/libc10.dylib''If you don't plan on using image functionality from `torchvision.io`, you can ignore this warning. Otherwise, there might be something wrong with your environment. Did you have `libjpeg` or `libpng` installed before building `torchvision` from source?\n",
      "  warn(\n",
      "/Users/borjasanchez/miniforge3/envs/MiniAM2/lib/python3.10/site-packages/torchvision/io/image.py:13: UserWarning: Failed to load image Python extension: 'dlopen(/Users/borjasanchez/miniforge3/envs/MiniAM2/lib/python3.10/site-packages/torchvision/image.so, 0x0006): Symbol not found: (__ZN3c106detail19maybe_wrap_dim_slowIxEET_S2_S2_b)\n",
      "  Referenced from: '/Users/borjasanchez/miniforge3/envs/MiniAM2/lib/python3.10/site-packages/torchvision/image.so'\n",
      "  Expected in: '/Users/borjasanchez/miniforge3/envs/MiniAM2/lib/python3.10/site-packages/torch/lib/libc10.dylib''If you don't plan on using image functionality from `torchvision.io`, you can ignore this warning. Otherwise, there might be something wrong with your environment. Did you have `libjpeg` or `libpng` installed before building `torchvision` from source?\n",
      "  warn(\n",
      "/Users/borjasanchez/miniforge3/envs/MiniAM2/lib/python3.10/site-packages/torchvision/io/image.py:13: UserWarning: Failed to load image Python extension: 'dlopen(/Users/borjasanchez/miniforge3/envs/MiniAM2/lib/python3.10/site-packages/torchvision/image.so, 0x0006): Symbol not found: (__ZN3c106detail19maybe_wrap_dim_slowIxEET_S2_S2_b)\n",
      "  Referenced from: '/Users/borjasanchez/miniforge3/envs/MiniAM2/lib/python3.10/site-packages/torchvision/image.so'\n",
      "  Expected in: '/Users/borjasanchez/miniforge3/envs/MiniAM2/lib/python3.10/site-packages/torch/lib/libc10.dylib''If you don't plan on using image functionality from `torchvision.io`, you can ignore this warning. Otherwise, there might be something wrong with your environment. Did you have `libjpeg` or `libpng` installed before building `torchvision` from source?\n",
      "  warn(\n",
      "Predicting...: 100%|████████████████████████████████████████████████████████████████████████████████████████████████████████████████████| 2123/2123 [55:50<00:00,  1.58s/it]\n",
      "INFO:root:Preprocessing\n",
      "INFO:root:Running labelling functions\n",
      "  0%|                                                                                                                                                | 0/12 [00:00<?, ?it/s]INFO:root:Applying labeling function to dataset...\n",
      "INFO:root:Abstains: 1059063     Labels: 27699\n",
      "  8%|███████████▎                                                                                                                            | 1/12 [00:27<04:59, 27.25s/it]INFO:root:Applying labeling function to dataset...\n",
      "INFO:root:Abstains: 1065596     Labels: 21166\n",
      " 17%|██████████████████████▋                                                                                                                 | 2/12 [01:01<05:15, 31.56s/it]INFO:root:Applying labeling function to dataset...\n",
      "INFO:root:Abstains: 1084720     Labels: 2042\n",
      " 25%|██████████████████████████████████                                                                                                      | 3/12 [01:08<03:02, 20.33s/it]INFO:root:Applying labeling function to dataset...\n",
      "INFO:root:Abstains: 1084541     Labels: 2221\n",
      " 33%|█████████████████████████████████████████████▎                                                                                          | 4/12 [01:23<02:24, 18.09s/it]INFO:root:Applying labeling function to dataset...\n",
      "INFO:root:Abstains: 1080520     Labels: 6242\n",
      " 42%|████████████████████████████████████████████████████████▋                                                                               | 5/12 [01:26<01:29, 12.75s/it]INFO:root:Applying labeling function to dataset...\n",
      "INFO:root:Abstains: 1022186     Labels: 64576\n",
      " 50%|████████████████████████████████████████████████████████████████████                                                                    | 6/12 [01:43<01:25, 14.28s/it]INFO:root:Applying labeling function to dataset...\n",
      "INFO:root:Abstains: 1076878     Labels: 9884\n",
      " 58%|███████████████████████████████████████████████████████████████████████████████▎                                                        | 7/12 [01:45<00:50, 10.19s/it]INFO:root:Applying labeling function to dataset...\n",
      "INFO:root:Abstains: 1064885     Labels: 21877\n",
      " 67%|██████████████████████████████████████████████████████████████████████████████████████████▋                                             | 8/12 [01:50<00:33,  8.36s/it]INFO:root:Applying labeling function to dataset...\n",
      "INFO:root:Abstains: 816494     Labels: 270268\n",
      " 75%|██████████████████████████████████████████████████████████████████████████████████████████████████████                                  | 9/12 [02:03<00:30, 10.02s/it]INFO:root:Applying labeling function to dataset...\n",
      "INFO:root:Abstains: 875678     Labels: 211084\n",
      " 83%|████████████████████████████████████████████████████████████████████████████████████████████████████████████████▌                      | 10/12 [02:17<00:22, 11.11s/it]INFO:root:Applying labeling function to dataset...\n",
      "INFO:root:Abstains: 833208     Labels: 253554\n",
      " 92%|███████████████████████████████████████████████████████████████████████████████████████████████████████████████████████████▊           | 11/12 [02:29<00:11, 11.56s/it]INFO:root:Applying labeling function to dataset...\n",
      "INFO:root:Abstains: 852324     Labels: 234438\n",
      "100%|███████████████████████████████████████████████████████████████████████████████████████████████████████████████████████████████████████| 12/12 [02:42<00:00, 13.55s/it]"
     ]
    },
    {
     "name": "stdout",
     "output_type": "stream",
     "text": [
      " 129/2123 [>.............................] - ETA: 0s  "
     ]
    },
    {
     "name": "stderr",
     "output_type": "stream",
     "text": [
      "\n"
     ]
    },
    {
     "name": "stdout",
     "output_type": "stream",
     "text": [
      "2123/2123 [==============================] - 1s 366us/step\n"
     ]
    }
   ],
   "source": [
    "probas = {lang: ad.predict(data[lang]) for lang, ad in ads.items()}"
   ]
  },
  {
   "cell_type": "markdown",
   "id": "08505d5a",
   "metadata": {},
   "source": [
    "### Apply any criteria you consider to get a soft label out of the predictions of the classifier (the classifier outputs the probability of each item to belong to the organization class, the man class and the woman class respectively)"
   ]
  },
  {
   "cell_type": "markdown",
   "id": "a415e53d",
   "metadata": {},
   "source": [
    "We provide here an example of how to obtain a 'fairer' process to get labels out of the probabilities, lowering the bias of the predictions"
   ]
  },
  {
   "cell_type": "code",
   "execution_count": 9,
   "id": "c91e6e3d",
   "metadata": {},
   "outputs": [
    {
     "name": "stdout",
     "output_type": "stream",
     "text": [
      "1/1 [==============================] - 0s 14ms/step\n",
      "1/1 [==============================] - 0s 14ms/step\n",
      "1/1 [==============================] - 0s 11ms/step\n"
     ]
    }
   ],
   "source": [
    "import numpy as np\n",
    "def no_bias_prediction_rescaled(probs, bias, th):\n",
    "    y_pred = np.argmax(probs, axis=1)\n",
    "\n",
    "    rescaled_diffs = (probs - bias) / (1-bias)\n",
    "\n",
    "    winner_margin = rescaled_diffs[np.arange(len(y_pred)), y_pred]\n",
    "\n",
    "    abstains = winner_margin < th\n",
    "    y_pred[abstains] = -1\n",
    "    return y_pred\n",
    "\n",
    "\n",
    "preds = {}\n",
    "for lang, proba in probas.items():\n",
    "    empty_input = np.ones((1, 15)) * (-1)\n",
    "    bias = ads[lang].decision_function.predict(empty_input)\n",
    "    p = no_bias_prediction_rescaled(proba, bias, 0.5)\n",
    "    preds[lang] = p"
   ]
  },
  {
   "cell_type": "markdown",
   "id": "1d8f6c53",
   "metadata": {},
   "source": [
    "### Add the new labels to the dataframes (per language) and finally combine them all to obtain a multilanguage soft label training set"
   ]
  },
  {
   "cell_type": "code",
   "execution_count": 12,
   "id": "c3f7c2fc",
   "metadata": {},
   "outputs": [],
   "source": [
    "for lang, d in data.items():\n",
    "    d[\"soft_label\"] = preds[lang]"
   ]
  },
  {
   "cell_type": "code",
   "execution_count": 15,
   "id": "acc8bf51",
   "metadata": {},
   "outputs": [],
   "source": [
    "import pandas as pd\n",
    "df = pd.concat([d for lang, d in data.items()], axis=0)"
   ]
  },
  {
   "cell_type": "code",
   "execution_count": 16,
   "id": "50fdebe1",
   "metadata": {},
   "outputs": [],
   "source": [
    "df = df.sample(frac=1, random_state=42)"
   ]
  },
  {
   "cell_type": "markdown",
   "id": "3df6bb01",
   "metadata": {},
   "source": [
    "### Congratulations! Variable df contains the training set we should fit our model with"
   ]
  },
  {
   "cell_type": "markdown",
   "id": "2825a57e",
   "metadata": {},
   "source": [
    "Remember to delete all 'unlabeled' items from your training set!"
   ]
  },
  {
   "cell_type": "code",
   "execution_count": null,
   "id": "52e01992",
   "metadata": {},
   "outputs": [],
   "source": [
    "df = df.loc[df.loc[:, \"soft_label\"] != -1]"
   ]
  }
 ],
 "metadata": {
  "kernelspec": {
   "display_name": "Python 3 (ipykernel)",
   "language": "python",
   "name": "python3"
  },
  "language_info": {
   "codemirror_mode": {
    "name": "ipython",
    "version": 3
   },
   "file_extension": ".py",
   "mimetype": "text/x-python",
   "name": "python",
   "nbconvert_exporter": "python",
   "pygments_lexer": "ipython3",
   "version": "3.10.9"
  }
 },
 "nbformat": 4,
 "nbformat_minor": 5
}
