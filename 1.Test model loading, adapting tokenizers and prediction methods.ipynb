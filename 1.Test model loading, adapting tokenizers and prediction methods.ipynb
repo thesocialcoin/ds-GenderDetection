{
 "cells": [
  {
   "cell_type": "markdown",
   "id": "c0baeff3",
   "metadata": {},
   "source": [
    "### Test MiniAM2 building and predict"
   ]
  },
  {
   "cell_type": "code",
   "execution_count": 3,
   "id": "9596c721",
   "metadata": {},
   "outputs": [],
   "source": [
    "import tensorflow as tf\n",
    "import keras\n",
    "from keras import layers, Model\n",
    "import logging\n",
    "\n",
    "logging.basicConfig(level=logging.INFO)"
   ]
  },
  {
   "cell_type": "code",
   "execution_count": 1,
   "id": "c9c74beb",
   "metadata": {},
   "outputs": [
    {
     "name": "stderr",
     "output_type": "stream",
     "text": [
      "INFO:root:Do not standardize\n",
      "INFO:root:Do not standardize\n",
      "INFO:root:Do not standardize\n"
     ]
    },
    {
     "name": "stdout",
     "output_type": "stream",
     "text": [
      "Model: \"miniam2\"\n",
      "__________________________________________________________________________________________________\n",
      " Layer (type)                   Output Shape         Param #     Connected to                     \n",
      "==================================================================================================\n",
      " screen_name (InputLayer)       [(None, 1)]          0           []                               \n",
      "                                                                                                  \n",
      " name (InputLayer)              [(None, 1)]          0           []                               \n",
      "                                                                                                  \n",
      " bio (InputLayer)               [(None, 1)]          0           []                               \n",
      "                                                                                                  \n",
      " tf.identity (TFOpLambda)       (None, 1)            0           ['screen_name[0][0]']            \n",
      "                                                                                                  \n",
      " tf.identity_1 (TFOpLambda)     (None, 1)            0           ['name[0][0]']                   \n",
      "                                                                                                  \n",
      " tf.identity_2 (TFOpLambda)     (None, 1)            0           ['name[0][0]']                   \n",
      "                                                                                                  \n",
      " tf.identity_3 (TFOpLambda)     (None, 1)            0           ['bio[0][0]']                    \n",
      "                                                                                                  \n",
      " tf.identity_4 (TFOpLambda)     (None, 1)            0           ['bio[0][0]']                    \n",
      "                                                                                                  \n",
      " sequential (Sequential)        (None, 64)           151872      ['tf.identity[0][0]']            \n",
      "                                                                                                  \n",
      " sequential_1 (Sequential)      (None, 64)           151872      ['tf.identity_1[0][0]']          \n",
      "                                                                                                  \n",
      " sequential_2 (Sequential)      (None, 64)           1130816     ['tf.identity_2[0][0]']          \n",
      "                                                                                                  \n",
      " sequential_3 (Sequential)      (None, 64)           151872      ['tf.identity_3[0][0]']          \n",
      "                                                                                                  \n",
      " sequential_4 (Sequential)      (None, 64)           1196352     ['tf.identity_4[0][0]']          \n",
      "                                                                                                  \n",
      " concatenate (Concatenate)      (None, 320)          0           ['sequential[0][0]',             \n",
      "                                                                  'sequential_1[0][0]',           \n",
      "                                                                  'sequential_2[0][0]',           \n",
      "                                                                  'sequential_3[0][0]',           \n",
      "                                                                  'sequential_4[0][0]']           \n",
      "                                                                                                  \n",
      " dense_15 (Dense)               (None, 3)            963         ['concatenate[0][0]']            \n",
      "                                                                                                  \n",
      "==================================================================================================\n",
      "Total params: 2,783,747\n",
      "Trainable params: 2,783,747\n",
      "Non-trainable params: 0\n",
      "__________________________________________________________________________________________________\n"
     ]
    }
   ],
   "source": [
    "from src.models.miniam2 import MiniAM2Classifier\n",
    "\n",
    "miniam2 = MiniAM2Classifier()\n",
    "miniam2.model.summary()\n"
   ]
  },
  {
   "cell_type": "markdown",
   "id": "59169588",
   "metadata": {},
   "source": [
    "### Adapt tokenizers to a data"
   ]
  },
  {
   "cell_type": "code",
   "execution_count": 2,
   "id": "22b8b81c",
   "metadata": {},
   "outputs": [
    {
     "name": "stderr",
     "output_type": "stream",
     "text": [
      "INFO:root:Adapting vocabularies...\n",
      "2023-05-07 15:46:01.357552: W tensorflow/tsl/platform/profile_utils/cpu_utils.cc:128] Failed to get CPU frequency: 0 Hz\n",
      "INFO:root:Adapted.\n",
      "INFO:root:Adapting vocabularies...\n",
      "INFO:root:Adapted.\n",
      "INFO:root:Adapting vocabularies...\n",
      "INFO:root:Adapted.\n",
      "INFO:root:Adapting vocabularies...\n",
      "INFO:root:Adapted.\n",
      "INFO:root:Adapting vocabularies...\n",
      "INFO:root:Adapted.\n"
     ]
    }
   ],
   "source": [
    "from src.utils import get_data\n",
    "\n",
    "# We will read only a few lines (50) of the dataset in orther to pass this test faster\n",
    "data = get_data('data/training_data/soft_labeled_data.zip', nrows=500)\n",
    "miniam2.adapt_text_models_tokenizers(data)"
   ]
  },
  {
   "cell_type": "markdown",
   "id": "7b442f69",
   "metadata": {},
   "source": [
    "### Predict using MiniAM2 model (randomly initialized)"
   ]
  },
  {
   "cell_type": "code",
   "execution_count": 4,
   "id": "dff74c35",
   "metadata": {},
   "outputs": [
    {
     "name": "stdout",
     "output_type": "stream",
     "text": [
      "1/1 [==============================] - 0s 154ms/step\n"
     ]
    },
    {
     "data": {
      "text/plain": [
       "array([[0.32644665, 0.34573567, 0.3278177 ],\n",
       "       [0.3255152 , 0.34962776, 0.32485703],\n",
       "       [0.32948017, 0.3481372 , 0.32238263]], dtype=float32)"
      ]
     },
     "execution_count": 4,
     "metadata": {},
     "output_type": "execute_result"
    }
   ],
   "source": [
    "miniam2.predict(data.iloc[0:3])"
   ]
  },
  {
   "cell_type": "markdown",
   "id": "b9cecd9e",
   "metadata": {},
   "source": [
    "### Predict using a text model inside MiniAM2, for example, the text model reading the screen_name (randomly initialized)"
   ]
  },
  {
   "cell_type": "code",
   "execution_count": 5,
   "id": "ad49fa0a",
   "metadata": {},
   "outputs": [
    {
     "name": "stdout",
     "output_type": "stream",
     "text": [
      "1/1 [==============================] - 0s 66ms/step\n"
     ]
    },
    {
     "data": {
      "text/plain": [
       "array([[0.33676046, 0.3329718 , 0.33026776],\n",
       "       [0.3280209 , 0.34225067, 0.32972845],\n",
       "       [0.32873568, 0.3389784 , 0.33228588]], dtype=float32)"
      ]
     },
     "execution_count": 5,
     "metadata": {},
     "output_type": "execute_result"
    }
   ],
   "source": [
    "miniam2.text_models['screen_name_ffnn_char'].predict(data.iloc[0:3], \"screen_name\")"
   ]
  }
 ],
 "metadata": {
  "kernelspec": {
   "display_name": "Python 3 (ipykernel)",
   "language": "python",
   "name": "python3"
  },
  "language_info": {
   "codemirror_mode": {
    "name": "ipython",
    "version": 3
   },
   "file_extension": ".py",
   "mimetype": "text/x-python",
   "name": "python",
   "nbconvert_exporter": "python",
   "pygments_lexer": "ipython3",
   "version": "3.10.9"
  }
 },
 "nbformat": 4,
 "nbformat_minor": 5
}
