{
 "cells": [
  {
   "cell_type": "code",
   "execution_count": 1,
   "id": "b4fa8c73",
   "metadata": {},
   "outputs": [
    {
     "name": "stderr",
     "output_type": "stream",
     "text": [
      "/Users/borjasanchez/miniforge3/envs/MiniAM2/lib/python3.10/site-packages/torchvision/io/image.py:13: UserWarning: Failed to load image Python extension: 'dlopen(/Users/borjasanchez/miniforge3/envs/MiniAM2/lib/python3.10/site-packages/torchvision/image.so, 0x0006): Symbol not found: (__ZN3c106detail19maybe_wrap_dim_slowIxEET_S2_S2_b)\n",
      "  Referenced from: '/Users/borjasanchez/miniforge3/envs/MiniAM2/lib/python3.10/site-packages/torchvision/image.so'\n",
      "  Expected in: '/Users/borjasanchez/miniforge3/envs/MiniAM2/lib/python3.10/site-packages/torch/lib/libc10.dylib''If you don't plan on using image functionality from `torchvision.io`, you can ignore this warning. Otherwise, there might be something wrong with your environment. Did you have `libjpeg` or `libpng` installed before building `torchvision` from source?\n",
      "  warn(\n"
     ]
    }
   ],
   "source": [
    "from src.classifiers.assemblage_distillation import AssemblageDistillation\n",
    "from src.classifiers.soft_labelers.m3_soft_labeler import M2SoftLabeler\n",
    "from src.classifiers.soft_labelers.soft_labeling_functions import LabelingFunctionsModel\n",
    "from src.classifiers.lr import LR"
   ]
  },
  {
   "cell_type": "code",
   "execution_count": 2,
   "id": "0cf656bd",
   "metadata": {},
   "outputs": [
    {
     "name": "stderr",
     "output_type": "stream",
     "text": [
      "INFO:m3inference.m3inference:Version 1.1.5\n",
      "INFO:m3inference.m3inference:Running on cpu.\n",
      "INFO:m3inference.m3inference:Will use text model. Note that as M3 was optimized to work well with both image and text data,                                     it is not recommended to use text only model unless you do not have the profile image.\n",
      "INFO:m3inference.m3inference:Model text_model exists at /Users/borjasanchez/m3/models/text_model.mdl.\n",
      "INFO:m3inference.utils:Checking MD5 for model text_model at /Users/borjasanchez/m3/models/text_model.mdl\n",
      "INFO:m3inference.utils:MD5s match.\n",
      "INFO:m3inference.m3inference:Loaded pretrained weight at /Users/borjasanchez/m3/models/text_model.mdl\n",
      "INFO:root:Creating labeling function model for language: es\n",
      "INFO:root:Computing es dictionary of names\n",
      "INFO:root:Creating labeling function model for language: en\n",
      "INFO:root:Computing en dictionary of names\n",
      "INFO:root:Creating labeling function model for language: fr\n",
      "INFO:root:Computing fr dictionary of names\n"
     ]
    }
   ],
   "source": [
    "languages = [\"es\", \"en\", \"fr\"]\n",
    "\n",
    "m3_sl = M2SoftLabeler()\n",
    "lf_sl = {lang: LabelingFunctionsModel(lang) for lang in languages}\n",
    "logReg = {lang: LR(15, 3, lang) for lang in languages}\n",
    "assem_dest = {lang: AssemblageDistillation([m3_sl,lf_sl[lang]], logReg[lang]) for lang in languages}"
   ]
  },
  {
   "cell_type": "code",
   "execution_count": 3,
   "id": "de97868d",
   "metadata": {},
   "outputs": [],
   "source": [
    "from src.utils import get_data\n",
    "\n",
    "dev_data = {'en': get_data('data/dev/english_verified.csv'),\n",
    "            'es': get_data('data/dev/spanish_verified.csv'),\n",
    "            'fr': get_data('data/dev/french_verified.csv')\n",
    "           }\n",
    "for lang, dev in dev_data.items():\n",
    "    dev[\"lang\"] = lang"
   ]
  },
  {
   "cell_type": "code",
   "execution_count": 4,
   "id": "095df347",
   "metadata": {},
   "outputs": [
    {
     "name": "stderr",
     "output_type": "stream",
     "text": [
      "INFO:root:M3 predicting...\n",
      "INFO:m3inference.dataset:3466 data entries loaded.\n",
      "Predicting...:   0%|                                                                                                                                  | 0/7 [00:00<?, ?it/s]/Users/borjasanchez/miniforge3/envs/MiniAM2/lib/python3.10/site-packages/torchvision/io/image.py:13: UserWarning: Failed to load image Python extension: 'dlopen(/Users/borjasanchez/miniforge3/envs/MiniAM2/lib/python3.10/site-packages/torchvision/image.so, 0x0006): Symbol not found: (__ZN3c106detail19maybe_wrap_dim_slowIxEET_S2_S2_b)\n",
      "  Referenced from: '/Users/borjasanchez/miniforge3/envs/MiniAM2/lib/python3.10/site-packages/torchvision/image.so'\n",
      "  Expected in: '/Users/borjasanchez/miniforge3/envs/MiniAM2/lib/python3.10/site-packages/torch/lib/libc10.dylib''If you don't plan on using image functionality from `torchvision.io`, you can ignore this warning. Otherwise, there might be something wrong with your environment. Did you have `libjpeg` or `libpng` installed before building `torchvision` from source?\n",
      "  warn(\n",
      "/Users/borjasanchez/miniforge3/envs/MiniAM2/lib/python3.10/site-packages/torchvision/io/image.py:13: UserWarning: Failed to load image Python extension: 'dlopen(/Users/borjasanchez/miniforge3/envs/MiniAM2/lib/python3.10/site-packages/torchvision/image.so, 0x0006): Symbol not found: (__ZN3c106detail19maybe_wrap_dim_slowIxEET_S2_S2_b)\n",
      "  Referenced from: '/Users/borjasanchez/miniforge3/envs/MiniAM2/lib/python3.10/site-packages/torchvision/image.so'\n",
      "  Expected in: '/Users/borjasanchez/miniforge3/envs/MiniAM2/lib/python3.10/site-packages/torch/lib/libc10.dylib''If you don't plan on using image functionality from `torchvision.io`, you can ignore this warning. Otherwise, there might be something wrong with your environment. Did you have `libjpeg` or `libpng` installed before building `torchvision` from source?\n",
      "  warn(\n",
      "/Users/borjasanchez/miniforge3/envs/MiniAM2/lib/python3.10/site-packages/torchvision/io/image.py:13: UserWarning: Failed to load image Python extension: 'dlopen(/Users/borjasanchez/miniforge3/envs/MiniAM2/lib/python3.10/site-packages/torchvision/image.so, 0x0006): Symbol not found: (__ZN3c106detail19maybe_wrap_dim_slowIxEET_S2_S2_b)\n",
      "  Referenced from: '/Users/borjasanchez/miniforge3/envs/MiniAM2/lib/python3.10/site-packages/torchvision/image.so'\n",
      "  Expected in: '/Users/borjasanchez/miniforge3/envs/MiniAM2/lib/python3.10/site-packages/torch/lib/libc10.dylib''If you don't plan on using image functionality from `torchvision.io`, you can ignore this warning. Otherwise, there might be something wrong with your environment. Did you have `libjpeg` or `libpng` installed before building `torchvision` from source?\n",
      "  warn(\n",
      "/Users/borjasanchez/miniforge3/envs/MiniAM2/lib/python3.10/site-packages/torchvision/io/image.py:13: UserWarning: Failed to load image Python extension: 'dlopen(/Users/borjasanchez/miniforge3/envs/MiniAM2/lib/python3.10/site-packages/torchvision/image.so, 0x0006): Symbol not found: (__ZN3c106detail19maybe_wrap_dim_slowIxEET_S2_S2_b)\n",
      "  Referenced from: '/Users/borjasanchez/miniforge3/envs/MiniAM2/lib/python3.10/site-packages/torchvision/image.so'\n",
      "  Expected in: '/Users/borjasanchez/miniforge3/envs/MiniAM2/lib/python3.10/site-packages/torch/lib/libc10.dylib''If you don't plan on using image functionality from `torchvision.io`, you can ignore this warning. Otherwise, there might be something wrong with your environment. Did you have `libjpeg` or `libpng` installed before building `torchvision` from source?\n",
      "  warn(\n",
      "Predicting...: 100%|██████████████████████████████████████████████████████████████████████████████████████████████████████████████████████████| 7/7 [00:33<00:00,  4.73s/it]\n",
      "INFO:root:Preprocessing\n",
      "INFO:root:Running labelling functions\n",
      "  0%|                                                                                                                                                | 0/12 [00:00<?, ?it/s]INFO:root:Applying labeling function to dataset...\n",
      "INFO:root:Abstains: 3355     Labels: 111\n",
      "INFO:root:Applying labeling function to dataset...\n",
      "INFO:root:Abstains: 3380     Labels: 86\n",
      " 17%|██████████████████████▋                                                                                                                 | 2/12 [00:00<00:00, 13.83it/s]INFO:root:Applying labeling function to dataset...\n",
      "INFO:root:Abstains: 3395     Labels: 71\n",
      "INFO:root:Applying labeling function to dataset...\n",
      "INFO:root:Abstains: 3401     Labels: 65\n",
      "INFO:root:Applying labeling function to dataset...\n",
      "INFO:root:Abstains: 3355     Labels: 111\n",
      "INFO:root:Applying labeling function to dataset...\n",
      "INFO:root:Abstains: 2635     Labels: 831\n",
      " 50%|████████████████████████████████████████████████████████████████████                                                                    | 6/12 [00:00<00:00, 21.57it/s]INFO:root:Applying labeling function to dataset...\n",
      "INFO:root:Abstains: 3367     Labels: 99\n",
      "INFO:root:Applying labeling function to dataset...\n",
      "INFO:root:Abstains: 3299     Labels: 167\n",
      "INFO:root:Applying labeling function to dataset...\n",
      "INFO:root:Abstains: 2189     Labels: 1277\n",
      "INFO:root:Applying labeling function to dataset...\n",
      "INFO:root:Abstains: 2718     Labels: 748\n",
      "INFO:root:Applying labeling function to dataset...\n",
      "INFO:root:Abstains: 2479     Labels: 987\n",
      " 92%|███████████████████████████████████████████████████████████████████████████████████████████████████████████████████████████▊           | 11/12 [00:00<00:00, 29.58it/s]INFO:root:Applying labeling function to dataset...\n",
      "INFO:root:Abstains: 2792     Labels: 674\n",
      "100%|███████████████████████████████████████████████████████████████████████████████████████████████████████████████████████████████████████| 12/12 [00:00<00:00, 26.75it/s]\n",
      "INFO:root:Training decision function...\n",
      "INFO:root:Training with 1007 sample length\n",
      "2023-05-23 20:53:10.219038: W tensorflow/tsl/platform/profile_utils/cpu_utils.cc:128] Failed to get CPU frequency: 0 Hz\n",
      "INFO:root:M3 predicting...\n",
      "INFO:m3inference.dataset:3327 data entries loaded.\n",
      "Predicting...:   0%|                                                                                                                                  | 0/7 [00:00<?, ?it/s]/Users/borjasanchez/miniforge3/envs/MiniAM2/lib/python3.10/site-packages/torchvision/io/image.py:13: UserWarning: Failed to load image Python extension: 'dlopen(/Users/borjasanchez/miniforge3/envs/MiniAM2/lib/python3.10/site-packages/torchvision/image.so, 0x0006): Symbol not found: (__ZN3c106detail19maybe_wrap_dim_slowIxEET_S2_S2_b)\n",
      "  Referenced from: '/Users/borjasanchez/miniforge3/envs/MiniAM2/lib/python3.10/site-packages/torchvision/image.so'\n",
      "  Expected in: '/Users/borjasanchez/miniforge3/envs/MiniAM2/lib/python3.10/site-packages/torch/lib/libc10.dylib''If you don't plan on using image functionality from `torchvision.io`, you can ignore this warning. Otherwise, there might be something wrong with your environment. Did you have `libjpeg` or `libpng` installed before building `torchvision` from source?\n",
      "  warn(\n",
      "/Users/borjasanchez/miniforge3/envs/MiniAM2/lib/python3.10/site-packages/torchvision/io/image.py:13: UserWarning: Failed to load image Python extension: 'dlopen(/Users/borjasanchez/miniforge3/envs/MiniAM2/lib/python3.10/site-packages/torchvision/image.so, 0x0006): Symbol not found: (__ZN3c106detail19maybe_wrap_dim_slowIxEET_S2_S2_b)\n",
      "  Referenced from: '/Users/borjasanchez/miniforge3/envs/MiniAM2/lib/python3.10/site-packages/torchvision/image.so'\n",
      "  Expected in: '/Users/borjasanchez/miniforge3/envs/MiniAM2/lib/python3.10/site-packages/torch/lib/libc10.dylib''If you don't plan on using image functionality from `torchvision.io`, you can ignore this warning. Otherwise, there might be something wrong with your environment. Did you have `libjpeg` or `libpng` installed before building `torchvision` from source?\n",
      "  warn(\n",
      "/Users/borjasanchez/miniforge3/envs/MiniAM2/lib/python3.10/site-packages/torchvision/io/image.py:13: UserWarning: Failed to load image Python extension: 'dlopen(/Users/borjasanchez/miniforge3/envs/MiniAM2/lib/python3.10/site-packages/torchvision/image.so, 0x0006): Symbol not found: (__ZN3c106detail19maybe_wrap_dim_slowIxEET_S2_S2_b)\n",
      "  Referenced from: '/Users/borjasanchez/miniforge3/envs/MiniAM2/lib/python3.10/site-packages/torchvision/image.so'\n",
      "  Expected in: '/Users/borjasanchez/miniforge3/envs/MiniAM2/lib/python3.10/site-packages/torch/lib/libc10.dylib''If you don't plan on using image functionality from `torchvision.io`, you can ignore this warning. Otherwise, there might be something wrong with your environment. Did you have `libjpeg` or `libpng` installed before building `torchvision` from source?\n",
      "  warn(\n"
     ]
    },
    {
     "name": "stderr",
     "output_type": "stream",
     "text": [
      "/Users/borjasanchez/miniforge3/envs/MiniAM2/lib/python3.10/site-packages/torchvision/io/image.py:13: UserWarning: Failed to load image Python extension: 'dlopen(/Users/borjasanchez/miniforge3/envs/MiniAM2/lib/python3.10/site-packages/torchvision/image.so, 0x0006): Symbol not found: (__ZN3c106detail19maybe_wrap_dim_slowIxEET_S2_S2_b)\n",
      "  Referenced from: '/Users/borjasanchez/miniforge3/envs/MiniAM2/lib/python3.10/site-packages/torchvision/image.so'\n",
      "  Expected in: '/Users/borjasanchez/miniforge3/envs/MiniAM2/lib/python3.10/site-packages/torch/lib/libc10.dylib''If you don't plan on using image functionality from `torchvision.io`, you can ignore this warning. Otherwise, there might be something wrong with your environment. Did you have `libjpeg` or `libpng` installed before building `torchvision` from source?\n",
      "  warn(\n",
      "Predicting...: 100%|██████████████████████████████████████████████████████████████████████████████████████████████████████████████████████████| 7/7 [00:33<00:00,  4.76s/it]\n",
      "INFO:root:Preprocessing\n",
      "INFO:root:Running labelling functions\n",
      "  0%|                                                                                                                                                | 0/12 [00:00<?, ?it/s]INFO:root:Applying labeling function to dataset...\n",
      "INFO:root:Abstains: 3251     Labels: 76\n",
      "INFO:root:Applying labeling function to dataset...\n",
      "INFO:root:Abstains: 3271     Labels: 56\n",
      " 17%|██████████████████████▋                                                                                                                 | 2/12 [00:00<00:00, 14.52it/s]INFO:root:Applying labeling function to dataset...\n",
      "INFO:root:Abstains: 3297     Labels: 30\n",
      "INFO:root:Applying labeling function to dataset...\n",
      "INFO:root:Abstains: 3303     Labels: 24\n",
      "INFO:root:Applying labeling function to dataset...\n",
      "INFO:root:Abstains: 3288     Labels: 39\n",
      "INFO:root:Applying labeling function to dataset...\n",
      "INFO:root:Abstains: 2913     Labels: 414\n",
      " 50%|████████████████████████████████████████████████████████████████████                                                                    | 6/12 [00:00<00:00, 24.71it/s]INFO:root:Applying labeling function to dataset...\n",
      "INFO:root:Abstains: 3262     Labels: 65\n",
      "INFO:root:Applying labeling function to dataset...\n",
      "INFO:root:Abstains: 3241     Labels: 86\n",
      "INFO:root:Applying labeling function to dataset...\n",
      "INFO:root:Abstains: 1672     Labels: 1655\n",
      "INFO:root:Applying labeling function to dataset...\n",
      "INFO:root:Abstains: 2619     Labels: 708\n",
      "INFO:root:Applying labeling function to dataset...\n",
      "INFO:root:Abstains: 2130     Labels: 1197\n",
      "INFO:root:Applying labeling function to dataset...\n",
      "INFO:root:Abstains: 2680     Labels: 647\n",
      "100%|███████████████████████████████████████████████████████████████████████████████████████████████████████████████████████████████████████| 12/12 [00:00<00:00, 32.01it/s]\n",
      "INFO:root:Training decision function...\n",
      "INFO:root:Training with 734 sample length\n",
      "INFO:root:M3 predicting...\n",
      "INFO:m3inference.dataset:3617 data entries loaded.\n",
      "Predicting...:   0%|                                                                                                                                  | 0/8 [00:00<?, ?it/s]/Users/borjasanchez/miniforge3/envs/MiniAM2/lib/python3.10/site-packages/torchvision/io/image.py:13: UserWarning: Failed to load image Python extension: 'dlopen(/Users/borjasanchez/miniforge3/envs/MiniAM2/lib/python3.10/site-packages/torchvision/image.so, 0x0006): Symbol not found: (__ZN3c106detail19maybe_wrap_dim_slowIxEET_S2_S2_b)\n",
      "  Referenced from: '/Users/borjasanchez/miniforge3/envs/MiniAM2/lib/python3.10/site-packages/torchvision/image.so'\n",
      "  Expected in: '/Users/borjasanchez/miniforge3/envs/MiniAM2/lib/python3.10/site-packages/torch/lib/libc10.dylib''If you don't plan on using image functionality from `torchvision.io`, you can ignore this warning. Otherwise, there might be something wrong with your environment. Did you have `libjpeg` or `libpng` installed before building `torchvision` from source?\n",
      "  warn(\n",
      "/Users/borjasanchez/miniforge3/envs/MiniAM2/lib/python3.10/site-packages/torchvision/io/image.py:13: UserWarning: Failed to load image Python extension: 'dlopen(/Users/borjasanchez/miniforge3/envs/MiniAM2/lib/python3.10/site-packages/torchvision/image.so, 0x0006): Symbol not found: (__ZN3c106detail19maybe_wrap_dim_slowIxEET_S2_S2_b)\n",
      "  Referenced from: '/Users/borjasanchez/miniforge3/envs/MiniAM2/lib/python3.10/site-packages/torchvision/image.so'\n",
      "  Expected in: '/Users/borjasanchez/miniforge3/envs/MiniAM2/lib/python3.10/site-packages/torch/lib/libc10.dylib''If you don't plan on using image functionality from `torchvision.io`, you can ignore this warning. Otherwise, there might be something wrong with your environment. Did you have `libjpeg` or `libpng` installed before building `torchvision` from source?\n",
      "  warn(\n",
      "/Users/borjasanchez/miniforge3/envs/MiniAM2/lib/python3.10/site-packages/torchvision/io/image.py:13: UserWarning: Failed to load image Python extension: 'dlopen(/Users/borjasanchez/miniforge3/envs/MiniAM2/lib/python3.10/site-packages/torchvision/image.so, 0x0006): Symbol not found: (__ZN3c106detail19maybe_wrap_dim_slowIxEET_S2_S2_b)\n",
      "  Referenced from: '/Users/borjasanchez/miniforge3/envs/MiniAM2/lib/python3.10/site-packages/torchvision/image.so'\n",
      "  Expected in: '/Users/borjasanchez/miniforge3/envs/MiniAM2/lib/python3.10/site-packages/torch/lib/libc10.dylib''If you don't plan on using image functionality from `torchvision.io`, you can ignore this warning. Otherwise, there might be something wrong with your environment. Did you have `libjpeg` or `libpng` installed before building `torchvision` from source?\n",
      "  warn(\n",
      "/Users/borjasanchez/miniforge3/envs/MiniAM2/lib/python3.10/site-packages/torchvision/io/image.py:13: UserWarning: Failed to load image Python extension: 'dlopen(/Users/borjasanchez/miniforge3/envs/MiniAM2/lib/python3.10/site-packages/torchvision/image.so, 0x0006): Symbol not found: (__ZN3c106detail19maybe_wrap_dim_slowIxEET_S2_S2_b)\n",
      "  Referenced from: '/Users/borjasanchez/miniforge3/envs/MiniAM2/lib/python3.10/site-packages/torchvision/image.so'\n",
      "  Expected in: '/Users/borjasanchez/miniforge3/envs/MiniAM2/lib/python3.10/site-packages/torch/lib/libc10.dylib''If you don't plan on using image functionality from `torchvision.io`, you can ignore this warning. Otherwise, there might be something wrong with your environment. Did you have `libjpeg` or `libpng` installed before building `torchvision` from source?\n",
      "  warn(\n",
      "Predicting...: 100%|██████████████████████████████████████████████████████████████████████████████████████████████████████████████████████████| 8/8 [00:29<00:00,  3.68s/it]\n",
      "INFO:root:Preprocessing\n",
      "INFO:root:Running labelling functions\n",
      "  0%|                                                                                                                                                | 0/12 [00:00<?, ?it/s]INFO:root:Applying labeling function to dataset...\n",
      "INFO:root:Abstains: 3580     Labels: 37\n",
      "INFO:root:Applying labeling function to dataset...\n",
      "INFO:root:Abstains: 3572     Labels: 45\n",
      " 17%|██████████████████████▋                                                                                                                 | 2/12 [00:00<00:00, 16.54it/s]INFO:root:Applying labeling function to dataset...\n",
      "INFO:root:Abstains: 3609     Labels: 8\n",
      "INFO:root:Applying labeling function to dataset...\n",
      "INFO:root:Abstains: 3615     Labels: 2\n",
      "INFO:root:Applying labeling function to dataset...\n",
      "INFO:root:Abstains: 3607     Labels: 10\n",
      "INFO:root:Applying labeling function to dataset...\n",
      "INFO:root:Abstains: 3479     Labels: 138\n",
      "INFO:root:Applying labeling function to dataset...\n",
      "INFO:root:Abstains: 3595     Labels: 22\n",
      "INFO:root:Applying labeling function to dataset...\n",
      "INFO:root:Abstains: 3555     Labels: 62\n",
      "INFO:root:Applying labeling function to dataset...\n",
      "INFO:root:Abstains: 2630     Labels: 987\n",
      " 75%|██████████████████████████████████████████████████████████████████████████████████████████████████████                                  | 9/12 [00:00<00:00, 40.31it/s]INFO:root:Applying labeling function to dataset...\n",
      "INFO:root:Abstains: 3236     Labels: 381\n",
      "INFO:root:Applying labeling function to dataset...\n",
      "INFO:root:Abstains: 2537     Labels: 1080\n"
     ]
    },
    {
     "name": "stderr",
     "output_type": "stream",
     "text": [
      "INFO:root:Applying labeling function to dataset...\n",
      "INFO:root:Abstains: 3209     Labels: 408\n",
      "100%|███████████████████████████████████████████████████████████████████████████████████████████████████████████████████████████████████████| 12/12 [00:00<00:00, 37.85it/s]\n",
      "INFO:root:Training decision function...\n",
      "INFO:root:Training with 578 sample length\n"
     ]
    }
   ],
   "source": [
    "L = {lang: assem_dest[lang].train_decision_function(dev) for lang, dev in dev_data.items()}"
   ]
  },
  {
   "cell_type": "code",
   "execution_count": 5,
   "id": "875897d1",
   "metadata": {},
   "outputs": [
    {
     "data": {
      "text/plain": [
       "[None, None, None]"
      ]
     },
     "execution_count": 5,
     "metadata": {},
     "output_type": "execute_result"
    }
   ],
   "source": [
    "ver = '0.0.0'\n",
    "[ad.decision_function.save_model_to_path('models', version=ver, save_format='h5') for lang, ad in assem_dest.items()]"
   ]
  },
  {
   "cell_type": "code",
   "execution_count": null,
   "id": "3a665857",
   "metadata": {},
   "outputs": [],
   "source": []
  }
 ],
 "metadata": {
  "kernelspec": {
   "display_name": "Python 3 (ipykernel)",
   "language": "python",
   "name": "python3"
  },
  "language_info": {
   "codemirror_mode": {
    "name": "ipython",
    "version": 3
   },
   "file_extension": ".py",
   "mimetype": "text/x-python",
   "name": "python",
   "nbconvert_exporter": "python",
   "pygments_lexer": "ipython3",
   "version": "3.10.9"
  }
 },
 "nbformat": 4,
 "nbformat_minor": 5
}
